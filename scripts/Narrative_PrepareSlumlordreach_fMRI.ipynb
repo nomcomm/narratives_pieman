{
 "cells": [
  {
   "cell_type": "markdown",
   "metadata": {},
   "source": [
    "## import modules"
   ]
  },
  {
   "cell_type": "code",
   "execution_count": 1,
   "metadata": {},
   "outputs": [],
   "source": [
    "import glob \n",
    "import pandas as pd\n",
    "import matplotlib.pyplot as plt\n",
    "%matplotlib inline\n",
    "import numpy as np\n",
    "import sys, os, nilearn\n",
    "from nilearn import input_data, datasets\n",
    "from nilearn import datasets, plotting\n",
    "from nilearn.image import new_img_like, load_img, get_data\n",
    "\n"
   ]
  },
  {
   "cell_type": "markdown",
   "metadata": {},
   "source": [
    "### set up masker"
   ]
  },
  {
   "cell_type": "code",
   "execution_count": 2,
   "metadata": {},
   "outputs": [],
   "source": [
    "shen_dictionary = np.load('/Users/Ralf/My_Cloud/RalfsFunctions/GITHUB/nomcomm/PAPERS_WORKING/NARRATIVES/data/maps/shen_dictionary.npy', allow_pickle = True).item()\n",
    "shen_file       = '/Users/Ralf/My_Cloud/RalfsFunctions/GITHUB/nomcomm/PAPERS_WORKING/NARRATIVES/data/maps/shen_2mm_268_parcellation.nii'\n",
    "\n",
    "path_dir = \"/Users/Ralf/My_Cloud/RalfsFunctions/GITHUB/nomcomm/PAPERS_WORKING/NARRATIVES/data/shen_ts//\"\n"
   ]
  },
  {
   "cell_type": "markdown",
   "metadata": {},
   "source": [
    "## set up files"
   ]
  },
  {
   "cell_type": "code",
   "execution_count": 21,
   "metadata": {
    "scrolled": false
   },
   "outputs": [
    {
     "name": "stdout",
     "output_type": "stream",
     "text": [
      "(1188, 268)\n",
      "/Users/Ralf/My_Cloud/RalfsFunctions/GITHUB/nomcomm/PAPERS_WORKING/NARRATIVES/data/shen_ts/sub-139_task-slumlordreach_space-MNI152NLin2009cAsym_LTR_Z_THP001_LP012_shen268.npy\n",
      "----\n",
      "(1205, 268)\n",
      "/Users/Ralf/My_Cloud/RalfsFunctions/GITHUB/nomcomm/PAPERS_WORKING/NARRATIVES/data/shen_ts/sub-111_task-slumlordreach_space-MNI152NLin2009cAsym_LTR_Z_THP001_LP012_shen268.npy\n",
      "----\n",
      "(1209, 268)\n",
      "/Users/Ralf/My_Cloud/RalfsFunctions/GITHUB/nomcomm/PAPERS_WORKING/NARRATIVES/data/shen_ts/sub-132_task-slumlordreach_space-MNI152NLin2009cAsym_LTR_Z_THP001_LP012_shen268.npy\n",
      "----\n",
      "(1223, 268)\n",
      "/Users/Ralf/My_Cloud/RalfsFunctions/GITHUB/nomcomm/PAPERS_WORKING/NARRATIVES/data/shen_ts/sub-134_task-slumlordreach_space-MNI152NLin2009cAsym_LTR_Z_THP001_LP012_shen268.npy\n",
      "----\n",
      "(1210, 268)\n",
      "/Users/Ralf/My_Cloud/RalfsFunctions/GITHUB/nomcomm/PAPERS_WORKING/NARRATIVES/data/shen_ts/sub-136_task-slumlordreach_space-MNI152NLin2009cAsym_LTR_Z_THP001_LP012_shen268.npy\n",
      "----\n",
      "(1206, 268)\n",
      "/Users/Ralf/My_Cloud/RalfsFunctions/GITHUB/nomcomm/PAPERS_WORKING/NARRATIVES/data/shen_ts/sub-145_task-slumlordreach_space-MNI152NLin2009cAsym_LTR_Z_THP001_LP012_shen268.npy\n",
      "----\n",
      "(1209, 268)\n",
      "/Users/Ralf/My_Cloud/RalfsFunctions/GITHUB/nomcomm/PAPERS_WORKING/NARRATIVES/data/shen_ts/sub-141_task-slumlordreach_space-MNI152NLin2009cAsym_LTR_Z_THP001_LP012_shen268.npy\n",
      "----\n",
      "(1210, 268)\n",
      "/Users/Ralf/My_Cloud/RalfsFunctions/GITHUB/nomcomm/PAPERS_WORKING/NARRATIVES/data/shen_ts/sub-143_task-slumlordreach_space-MNI152NLin2009cAsym_LTR_Z_THP001_LP012_shen268.npy\n",
      "----\n",
      "(1208, 268)\n",
      "/Users/Ralf/My_Cloud/RalfsFunctions/GITHUB/nomcomm/PAPERS_WORKING/NARRATIVES/data/shen_ts/sub-137_task-slumlordreach_space-MNI152NLin2009cAsym_LTR_Z_THP001_LP012_shen268.npy\n",
      "----\n",
      "(1210, 268)\n",
      "/Users/Ralf/My_Cloud/RalfsFunctions/GITHUB/nomcomm/PAPERS_WORKING/NARRATIVES/data/shen_ts/sub-135_task-slumlordreach_space-MNI152NLin2009cAsym_LTR_Z_THP001_LP012_shen268.npy\n",
      "----\n",
      "(1213, 268)\n",
      "/Users/Ralf/My_Cloud/RalfsFunctions/GITHUB/nomcomm/PAPERS_WORKING/NARRATIVES/data/shen_ts/sub-133_task-slumlordreach_space-MNI152NLin2009cAsym_LTR_Z_THP001_LP012_shen268.npy\n",
      "----\n",
      "(1211, 268)\n",
      "/Users/Ralf/My_Cloud/RalfsFunctions/GITHUB/nomcomm/PAPERS_WORKING/NARRATIVES/data/shen_ts/sub-142_task-slumlordreach_space-MNI152NLin2009cAsym_LTR_Z_THP001_LP012_shen268.npy\n",
      "----\n",
      "(1208, 268)\n",
      "/Users/Ralf/My_Cloud/RalfsFunctions/GITHUB/nomcomm/PAPERS_WORKING/NARRATIVES/data/shen_ts/sub-140_task-slumlordreach_space-MNI152NLin2009cAsym_LTR_Z_THP001_LP012_shen268.npy\n",
      "----\n",
      "(1212, 268)\n",
      "/Users/Ralf/My_Cloud/RalfsFunctions/GITHUB/nomcomm/PAPERS_WORKING/NARRATIVES/data/shen_ts/sub-144_task-slumlordreach_space-MNI152NLin2009cAsym_LTR_Z_THP001_LP012_shen268.npy\n",
      "----\n",
      "(1210, 268)\n",
      "/Users/Ralf/My_Cloud/RalfsFunctions/GITHUB/nomcomm/PAPERS_WORKING/NARRATIVES/data/shen_ts/sub-138_task-slumlordreach_space-MNI152NLin2009cAsym_LTR_Z_THP001_LP012_shen268.npy\n",
      "----\n",
      "(1210, 268)\n",
      "/Users/Ralf/My_Cloud/RalfsFunctions/GITHUB/nomcomm/PAPERS_WORKING/NARRATIVES/data/shen_ts/sub-016_task-slumlordreach_space-MNI152NLin2009cAsym_LTR_Z_THP001_LP012_shen268.npy\n",
      "----\n",
      "(1210, 268)\n",
      "/Users/Ralf/My_Cloud/RalfsFunctions/GITHUB/nomcomm/PAPERS_WORKING/NARRATIVES/data/shen_ts/sub-084_task-slumlordreach_space-MNI152NLin2009cAsym_LTR_Z_THP001_LP012_shen268.npy\n",
      "----\n",
      "(1209, 268)\n",
      "/Users/Ralf/My_Cloud/RalfsFunctions/GITHUB/nomcomm/PAPERS_WORKING/NARRATIVES/data/shen_ts/sub-106_task-slumlordreach_space-MNI152NLin2009cAsym_LTR_Z_THP001_LP012_shen268.npy\n",
      "----\n"
     ]
    }
   ],
   "source": [
    "task_list = [   '-slumlordreach_space-MNI152NLin2009cAsym',             #  68\n",
    "                # The Moth\n",
    "                # 7:30 \n",
    "                ]           \n",
    "\n",
    "ns = [] \n",
    "res = []\n",
    "storyisc = []\n",
    "for curr_task in task_list[:]:\n",
    "    #print(curr_task)\n",
    "    search_path = path_dir + \"/*\" + str(curr_task) + \"_LTR_Z_THP001_LP012_shen268.npy\"\n",
    "    #print(search_path)\n",
    "\n",
    "    ts_files = glob.glob(search_path)\n",
    "    #print(ts_files)\n",
    "    \n",
    "    ts_data = []\n",
    "    for i in range(len(ts_files)):\n",
    "        ts_data.append(np.load(ts_files[i])[3:(3+602+17),:])\n",
    "        print(np.load(ts_files[i]).shape)\n",
    "        print((ts_files[i]))\n",
    "        print('----')\n",
    "\n",
    "        \n",
    "    ts_data = np.asarray(ts_data);\n",
    "\n",
    "\n",
    "    "
   ]
  },
  {
   "cell_type": "code",
   "execution_count": 22,
   "metadata": {},
   "outputs": [
    {
     "data": {
      "text/plain": [
       "(18, 619, 268)"
      ]
     },
     "execution_count": 22,
     "metadata": {},
     "output_type": "execute_result"
    }
   ],
   "source": [
    "ts_data.shape\n",
    "\n"
   ]
  },
  {
   "cell_type": "code",
   "execution_count": 23,
   "metadata": {},
   "outputs": [
    {
     "data": {
      "text/plain": [
       "928.5"
      ]
     },
     "execution_count": 23,
     "metadata": {},
     "output_type": "execute_result"
    }
   ],
   "source": [
    "619*1.5"
   ]
  },
  {
   "cell_type": "code",
   "execution_count": 24,
   "metadata": {},
   "outputs": [],
   "source": [
    "np.save('/Users/Ralf/My_Cloud/RalfsFunctions/GITHUB/nomcomm/PAPERS_WORKING/NARRATIVES/fmri_data_slumlord.npy', ts_data)"
   ]
  },
  {
   "cell_type": "code",
   "execution_count": 15,
   "metadata": {},
   "outputs": [
    {
     "data": {
      "text/html": [
       "<div>\n",
       "<style scoped>\n",
       "    .dataframe tbody tr th:only-of-type {\n",
       "        vertical-align: middle;\n",
       "    }\n",
       "\n",
       "    .dataframe tbody tr th {\n",
       "        vertical-align: top;\n",
       "    }\n",
       "\n",
       "    .dataframe thead th {\n",
       "        text-align: right;\n",
       "    }\n",
       "</style>\n",
       "<table border=\"1\" class=\"dataframe\">\n",
       "  <thead>\n",
       "    <tr style=\"text-align: right;\">\n",
       "      <th></th>\n",
       "      <th>word</th>\n",
       "      <th>worldlc</th>\n",
       "      <th>onset</th>\n",
       "      <th>offset</th>\n",
       "    </tr>\n",
       "  </thead>\n",
       "  <tbody>\n",
       "    <tr>\n",
       "      <th>0</th>\n",
       "      <td>This</td>\n",
       "      <td>this</td>\n",
       "      <td>24.55</td>\n",
       "      <td>24.72</td>\n",
       "    </tr>\n",
       "    <tr>\n",
       "      <th>1</th>\n",
       "      <td>is</td>\n",
       "      <td>is</td>\n",
       "      <td>24.72</td>\n",
       "      <td>24.87</td>\n",
       "    </tr>\n",
       "    <tr>\n",
       "      <th>2</th>\n",
       "      <td>the</td>\n",
       "      <td>the</td>\n",
       "      <td>24.90</td>\n",
       "      <td>25.00</td>\n",
       "    </tr>\n",
       "    <tr>\n",
       "      <th>3</th>\n",
       "      <td>story</td>\n",
       "      <td>story</td>\n",
       "      <td>25.00</td>\n",
       "      <td>25.32</td>\n",
       "    </tr>\n",
       "    <tr>\n",
       "      <th>4</th>\n",
       "      <td>of</td>\n",
       "      <td>of</td>\n",
       "      <td>25.32</td>\n",
       "      <td>25.44</td>\n",
       "    </tr>\n",
       "  </tbody>\n",
       "</table>\n",
       "</div>"
      ],
      "text/plain": [
       "    word worldlc  onset  offset\n",
       "0   This    this  24.55   24.72\n",
       "1     is      is  24.72   24.87\n",
       "2    the     the  24.90   25.00\n",
       "3  story   story  25.00   25.32\n",
       "4     of      of  25.32   25.44"
      ]
     },
     "execution_count": 15,
     "metadata": {},
     "output_type": "execute_result"
    }
   ],
   "source": [
    "word_times_file = pd.read_csv('/Users/Ralf/My_Cloud/RalfsFunctions/GITHUB/nomcomm/PAPERS_WORKING/NARRATIVES/gentle/slumlordreach/align.csv',\n",
    "                             header = None, names = ['word', 'worldlc', 'onset', 'offset'])\n",
    "word_times_file.head()\n"
   ]
  },
  {
   "cell_type": "code",
   "execution_count": 16,
   "metadata": {},
   "outputs": [
    {
     "name": "stdout",
     "output_type": "stream",
     "text": [
      "['sub-139', 'sub-111', 'sub-132', 'sub-134', 'sub-136', 'sub-145', 'sub-141', 'sub-143', 'sub-137', 'sub-135', 'sub-133', 'sub-142', 'sub-140', 'sub-144', 'sub-138', 'sub-016', 'sub-084', 'sub-106']\n"
     ]
    }
   ],
   "source": [
    " \n",
    "matches = []\n",
    " \n",
    "for match in ts_files:\n",
    "        matches.append(match[90:97])\n",
    " \n",
    "print(matches)"
   ]
  },
  {
   "cell_type": "code",
   "execution_count": 17,
   "metadata": {},
   "outputs": [
    {
     "data": {
      "text/plain": [
       "18"
      ]
     },
     "execution_count": 17,
     "metadata": {},
     "output_type": "execute_result"
    }
   ],
   "source": [
    "len(matches)"
   ]
  },
  {
   "cell_type": "code",
   "execution_count": 18,
   "metadata": {},
   "outputs": [],
   "source": [
    "participants = pd.DataFrame(matches, columns = ['participant_id'])"
   ]
  },
  {
   "cell_type": "code",
   "execution_count": 20,
   "metadata": {},
   "outputs": [],
   "source": [
    "participants.to_csv('/Users/Ralf/My_Cloud/RalfsFunctions/GITHUB/nomcomm/PAPERS_WORKING/NARRATIVES/slumlord_participants.csv')"
   ]
  },
  {
   "cell_type": "code",
   "execution_count": null,
   "metadata": {},
   "outputs": [],
   "source": []
  }
 ],
 "metadata": {
  "kernelspec": {
   "display_name": "neuroimaging",
   "language": "python",
   "name": "neuroimaging"
  },
  "language_info": {
   "codemirror_mode": {
    "name": "ipython",
    "version": 3
   },
   "file_extension": ".py",
   "mimetype": "text/x-python",
   "name": "python",
   "nbconvert_exporter": "python",
   "pygments_lexer": "ipython3",
   "version": "3.6.7"
  }
 },
 "nbformat": 4,
 "nbformat_minor": 4
}
