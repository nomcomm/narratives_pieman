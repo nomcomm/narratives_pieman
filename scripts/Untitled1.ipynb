{
 "cells": [
  {
   "cell_type": "code",
   "execution_count": 1,
   "metadata": {},
   "outputs": [
    {
     "data": {
      "text/plain": [
       "['/Users/Ralf/anaconda3/envs/neuroimaging/lib/python36.zip',\n",
       " '/Users/Ralf/anaconda3/envs/neuroimaging/lib/python3.6',\n",
       " '/Users/Ralf/anaconda3/envs/neuroimaging/lib/python3.6/lib-dynload',\n",
       " '',\n",
       " '/Users/Ralf/.local/lib/python3.6/site-packages',\n",
       " '/Users/Ralf/.local/lib/python3.6/site-packages/nistats-0.0.1b0-py3.6.egg',\n",
       " '/Users/Ralf/anaconda3/envs/neuroimaging/lib/python3.6/site-packages',\n",
       " '/Users/Ralf/anaconda3/envs/neuroimaging/lib/python3.6/site-packages/IPython/extensions',\n",
       " '/Users/Ralf/.ipython']"
      ]
     },
     "execution_count": 1,
     "metadata": {},
     "output_type": "execute_result"
    }
   ],
   "source": [
    "import sys\n",
    "sys.path"
   ]
  },
  {
   "cell_type": "code",
   "execution_count": 2,
   "metadata": {},
   "outputs": [],
   "source": [
    "#!conda install scikit-learn -y\n",
    "\n",
    "#!pip install nibabel"
   ]
  },
  {
   "cell_type": "code",
   "execution_count": 3,
   "metadata": {},
   "outputs": [],
   "source": [
    "import nilearn\n",
    "import os\n",
    "import nibabel as nib"
   ]
  },
  {
   "cell_type": "code",
   "execution_count": 4,
   "metadata": {},
   "outputs": [],
   "source": [
    "os.chdir('./sub-001/func')\n"
   ]
  },
  {
   "cell_type": "code",
   "execution_count": 5,
   "metadata": {},
   "outputs": [],
   "source": [
    "file_to_load = 'sub-001_task-pieman_run-1_space-MNI152NLin2009cAsym_res-native_boldref.nii.gz'\n",
    "\n",
    "\n",
    "file1 = nib.load(file_to_load)"
   ]
  },
  {
   "cell_type": "code",
   "execution_count": 6,
   "metadata": {},
   "outputs": [
    {
     "name": "stderr",
     "output_type": "stream",
     "text": [
      "/Users/Ralf/anaconda3/envs/neuroimaging/lib/python3.6/site-packages/ipykernel_launcher.py:1: DeprecationWarning: get_data() is deprecated in favor of get_fdata(), which has a more predictable return type. To obtain get_data() behavior going forward, use numpy.asanyarray(img.dataobj).\n",
      "\n",
      "* deprecated from version: 3.0\n",
      "* Will raise <class 'nibabel.deprecator.ExpiredDeprecationError'> as of version: 5.0\n",
      "  \"\"\"Entry point for launching an IPython kernel.\n"
     ]
    }
   ],
   "source": [
    "file1_data = file1.get_data();"
   ]
  },
  {
   "cell_type": "code",
   "execution_count": 7,
   "metadata": {},
   "outputs": [
    {
     "data": {
      "text/plain": [
       "(65, 77, 49)"
      ]
     },
     "execution_count": 7,
     "metadata": {},
     "output_type": "execute_result"
    }
   ],
   "source": [
    "file1_data.shape"
   ]
  },
  {
   "cell_type": "code",
   "execution_count": 8,
   "metadata": {},
   "outputs": [
    {
     "data": {
      "text/plain": [
       "'/Users/Ralf/My_Cloud/RalfsFunctions/GITHUB/nomcomm/PAPERS_WORKING/NARRATIVES/fmriprep/sub-001/func'"
      ]
     },
     "execution_count": 8,
     "metadata": {},
     "output_type": "execute_result"
    }
   ],
   "source": [
    "os.getcwd()"
   ]
  },
  {
   "cell_type": "code",
   "execution_count": 9,
   "metadata": {},
   "outputs": [],
   "source": [
    "import glob"
   ]
  },
  {
   "cell_type": "code",
   "execution_count": 10,
   "metadata": {},
   "outputs": [
    {
     "name": "stdout",
     "output_type": "stream",
     "text": [
      "14\n"
     ]
    }
   ],
   "source": [
    "path = \"/Users/Ralf/My_Cloud/RalfsFunctions/GITHUB/nomcomm/PAPERS_WORKING/NARRATIVES/fmriprep/\"\n",
    "\n",
    "text_files = glob.glob(path + \"/**/*-pieman_run-1_space-MNI152NLin2009cAsym_res-native_desc-preproc_bold.nii.gz\", recursive = True)\n",
    "\n",
    "print(len(text_files))"
   ]
  },
  {
   "cell_type": "code",
   "execution_count": 20,
   "metadata": {},
   "outputs": [
    {
     "data": {
      "text/html": [
       "<div>\n",
       "<style scoped>\n",
       "    .dataframe tbody tr th:only-of-type {\n",
       "        vertical-align: middle;\n",
       "    }\n",
       "\n",
       "    .dataframe tbody tr th {\n",
       "        vertical-align: top;\n",
       "    }\n",
       "\n",
       "    .dataframe thead th {\n",
       "        text-align: right;\n",
       "    }\n",
       "</style>\n",
       "<table border=\"1\" class=\"dataframe\">\n",
       "  <thead>\n",
       "    <tr style=\"text-align: right;\">\n",
       "      <th></th>\n",
       "      <th>csf</th>\n",
       "      <th>csf_derivative1</th>\n",
       "      <th>csf_derivative1_power2</th>\n",
       "      <th>csf_power2</th>\n",
       "      <th>white_matter</th>\n",
       "      <th>white_matter_derivative1</th>\n",
       "      <th>white_matter_derivative1_power2</th>\n",
       "      <th>white_matter_power2</th>\n",
       "      <th>global_signal</th>\n",
       "      <th>global_signal_derivative1</th>\n",
       "      <th>...</th>\n",
       "      <th>motion_outlier06</th>\n",
       "      <th>motion_outlier07</th>\n",
       "      <th>motion_outlier08</th>\n",
       "      <th>motion_outlier09</th>\n",
       "      <th>motion_outlier10</th>\n",
       "      <th>motion_outlier11</th>\n",
       "      <th>motion_outlier12</th>\n",
       "      <th>motion_outlier13</th>\n",
       "      <th>motion_outlier14</th>\n",
       "      <th>motion_outlier15</th>\n",
       "    </tr>\n",
       "  </thead>\n",
       "  <tbody>\n",
       "    <tr>\n",
       "      <th>0</th>\n",
       "      <td>753.349707</td>\n",
       "      <td>NaN</td>\n",
       "      <td>NaN</td>\n",
       "      <td>567535.781748</td>\n",
       "      <td>630.839278</td>\n",
       "      <td>NaN</td>\n",
       "      <td>NaN</td>\n",
       "      <td>397958.194745</td>\n",
       "      <td>580.081083</td>\n",
       "      <td>NaN</td>\n",
       "      <td>...</td>\n",
       "      <td>0.0</td>\n",
       "      <td>0.0</td>\n",
       "      <td>0.0</td>\n",
       "      <td>0.0</td>\n",
       "      <td>0.0</td>\n",
       "      <td>0.0</td>\n",
       "      <td>0.0</td>\n",
       "      <td>0.0</td>\n",
       "      <td>0.0</td>\n",
       "      <td>0.0</td>\n",
       "    </tr>\n",
       "    <tr>\n",
       "      <th>1</th>\n",
       "      <td>744.880315</td>\n",
       "      <td>-8.469393</td>\n",
       "      <td>71.730616</td>\n",
       "      <td>554846.683070</td>\n",
       "      <td>630.017369</td>\n",
       "      <td>-0.821909</td>\n",
       "      <td>0.675534</td>\n",
       "      <td>396921.885252</td>\n",
       "      <td>578.187034</td>\n",
       "      <td>-1.894049</td>\n",
       "      <td>...</td>\n",
       "      <td>0.0</td>\n",
       "      <td>0.0</td>\n",
       "      <td>0.0</td>\n",
       "      <td>0.0</td>\n",
       "      <td>0.0</td>\n",
       "      <td>0.0</td>\n",
       "      <td>0.0</td>\n",
       "      <td>0.0</td>\n",
       "      <td>0.0</td>\n",
       "      <td>0.0</td>\n",
       "    </tr>\n",
       "    <tr>\n",
       "      <th>2</th>\n",
       "      <td>746.862935</td>\n",
       "      <td>1.982620</td>\n",
       "      <td>3.930784</td>\n",
       "      <td>557804.243617</td>\n",
       "      <td>629.846584</td>\n",
       "      <td>-0.170785</td>\n",
       "      <td>0.029168</td>\n",
       "      <td>396706.719313</td>\n",
       "      <td>579.049106</td>\n",
       "      <td>0.862072</td>\n",
       "      <td>...</td>\n",
       "      <td>0.0</td>\n",
       "      <td>0.0</td>\n",
       "      <td>0.0</td>\n",
       "      <td>0.0</td>\n",
       "      <td>0.0</td>\n",
       "      <td>0.0</td>\n",
       "      <td>0.0</td>\n",
       "      <td>0.0</td>\n",
       "      <td>0.0</td>\n",
       "      <td>0.0</td>\n",
       "    </tr>\n",
       "    <tr>\n",
       "      <th>3</th>\n",
       "      <td>748.367920</td>\n",
       "      <td>1.504985</td>\n",
       "      <td>2.264979</td>\n",
       "      <td>560054.543419</td>\n",
       "      <td>630.151847</td>\n",
       "      <td>0.305263</td>\n",
       "      <td>0.093185</td>\n",
       "      <td>397091.349957</td>\n",
       "      <td>580.517346</td>\n",
       "      <td>1.468240</td>\n",
       "      <td>...</td>\n",
       "      <td>0.0</td>\n",
       "      <td>0.0</td>\n",
       "      <td>0.0</td>\n",
       "      <td>0.0</td>\n",
       "      <td>0.0</td>\n",
       "      <td>0.0</td>\n",
       "      <td>0.0</td>\n",
       "      <td>0.0</td>\n",
       "      <td>0.0</td>\n",
       "      <td>0.0</td>\n",
       "    </tr>\n",
       "    <tr>\n",
       "      <th>4</th>\n",
       "      <td>753.948964</td>\n",
       "      <td>5.581044</td>\n",
       "      <td>31.148049</td>\n",
       "      <td>568439.039649</td>\n",
       "      <td>630.814533</td>\n",
       "      <td>0.662686</td>\n",
       "      <td>0.439153</td>\n",
       "      <td>397926.974821</td>\n",
       "      <td>581.234497</td>\n",
       "      <td>0.717151</td>\n",
       "      <td>...</td>\n",
       "      <td>0.0</td>\n",
       "      <td>0.0</td>\n",
       "      <td>0.0</td>\n",
       "      <td>0.0</td>\n",
       "      <td>0.0</td>\n",
       "      <td>0.0</td>\n",
       "      <td>0.0</td>\n",
       "      <td>0.0</td>\n",
       "      <td>0.0</td>\n",
       "      <td>0.0</td>\n",
       "    </tr>\n",
       "  </tbody>\n",
       "</table>\n",
       "<p>5 rows × 196 columns</p>\n",
       "</div>"
      ],
      "text/plain": [
       "          csf  csf_derivative1  csf_derivative1_power2     csf_power2  \\\n",
       "0  753.349707              NaN                     NaN  567535.781748   \n",
       "1  744.880315        -8.469393               71.730616  554846.683070   \n",
       "2  746.862935         1.982620                3.930784  557804.243617   \n",
       "3  748.367920         1.504985                2.264979  560054.543419   \n",
       "4  753.948964         5.581044               31.148049  568439.039649   \n",
       "\n",
       "   white_matter  white_matter_derivative1  white_matter_derivative1_power2  \\\n",
       "0    630.839278                       NaN                              NaN   \n",
       "1    630.017369                 -0.821909                         0.675534   \n",
       "2    629.846584                 -0.170785                         0.029168   \n",
       "3    630.151847                  0.305263                         0.093185   \n",
       "4    630.814533                  0.662686                         0.439153   \n",
       "\n",
       "   white_matter_power2  global_signal  global_signal_derivative1  ...  \\\n",
       "0        397958.194745     580.081083                        NaN  ...   \n",
       "1        396921.885252     578.187034                  -1.894049  ...   \n",
       "2        396706.719313     579.049106                   0.862072  ...   \n",
       "3        397091.349957     580.517346                   1.468240  ...   \n",
       "4        397926.974821     581.234497                   0.717151  ...   \n",
       "\n",
       "   motion_outlier06  motion_outlier07  motion_outlier08  motion_outlier09  \\\n",
       "0               0.0               0.0               0.0               0.0   \n",
       "1               0.0               0.0               0.0               0.0   \n",
       "2               0.0               0.0               0.0               0.0   \n",
       "3               0.0               0.0               0.0               0.0   \n",
       "4               0.0               0.0               0.0               0.0   \n",
       "\n",
       "   motion_outlier10  motion_outlier11  motion_outlier12  motion_outlier13  \\\n",
       "0               0.0               0.0               0.0               0.0   \n",
       "1               0.0               0.0               0.0               0.0   \n",
       "2               0.0               0.0               0.0               0.0   \n",
       "3               0.0               0.0               0.0               0.0   \n",
       "4               0.0               0.0               0.0               0.0   \n",
       "\n",
       "   motion_outlier14  motion_outlier15  \n",
       "0               0.0               0.0  \n",
       "1               0.0               0.0  \n",
       "2               0.0               0.0  \n",
       "3               0.0               0.0  \n",
       "4               0.0               0.0  \n",
       "\n",
       "[5 rows x 196 columns]"
      ]
     },
     "execution_count": 20,
     "metadata": {},
     "output_type": "execute_result"
    }
   ],
   "source": [
    "import pandas as pd\n",
    "confs = pd.read_csv('sub-001_task-pieman_run-1_desc-confounds_regressors.tsv', sep = '\\t')\n",
    "confs.head()"
   ]
  },
  {
   "cell_type": "code",
   "execution_count": null,
   "metadata": {},
   "outputs": [],
   "source": []
  },
  {
   "cell_type": "code",
   "execution_count": 11,
   "metadata": {},
   "outputs": [
    {
     "data": {
      "text/plain": [
       "['/Users/Ralf/My_Cloud/RalfsFunctions/GITHUB/nomcomm/PAPERS_WORKING/NARRATIVES/fmriprep/sub-010/func/sub-010_task-pieman_run-1_space-MNI152NLin2009cAsym_res-native_desc-preproc_bold.nii.gz',\n",
       " '/Users/Ralf/My_Cloud/RalfsFunctions/GITHUB/nomcomm/PAPERS_WORKING/NARRATIVES/fmriprep/sub-016/func/sub-016_task-pieman_run-1_space-MNI152NLin2009cAsym_res-native_desc-preproc_bold.nii.gz',\n",
       " '/Users/Ralf/My_Cloud/RalfsFunctions/GITHUB/nomcomm/PAPERS_WORKING/NARRATIVES/fmriprep/sub-011/func/sub-011_task-pieman_run-1_space-MNI152NLin2009cAsym_res-native_desc-preproc_bold.nii.gz',\n",
       " '/Users/Ralf/My_Cloud/RalfsFunctions/GITHUB/nomcomm/PAPERS_WORKING/NARRATIVES/fmriprep/sub-002/func/sub-002_task-pieman_run-1_space-MNI152NLin2009cAsym_res-native_desc-preproc_bold.nii.gz',\n",
       " '/Users/Ralf/My_Cloud/RalfsFunctions/GITHUB/nomcomm/PAPERS_WORKING/NARRATIVES/fmriprep/sub-005/func/sub-005_task-pieman_run-1_space-MNI152NLin2009cAsym_res-native_desc-preproc_bold.nii.gz',\n",
       " '/Users/Ralf/My_Cloud/RalfsFunctions/GITHUB/nomcomm/PAPERS_WORKING/NARRATIVES/fmriprep/sub-004/func/sub-004_task-pieman_run-1_space-MNI152NLin2009cAsym_res-native_desc-preproc_bold.nii.gz',\n",
       " '/Users/Ralf/My_Cloud/RalfsFunctions/GITHUB/nomcomm/PAPERS_WORKING/NARRATIVES/fmriprep/sub-003/func/sub-003_task-pieman_run-1_space-MNI152NLin2009cAsym_res-native_desc-preproc_bold.nii.gz',\n",
       " '/Users/Ralf/My_Cloud/RalfsFunctions/GITHUB/nomcomm/PAPERS_WORKING/NARRATIVES/fmriprep/sub-014/func/sub-014_task-pieman_run-1_space-MNI152NLin2009cAsym_res-native_desc-preproc_bold.nii.gz',\n",
       " '/Users/Ralf/My_Cloud/RalfsFunctions/GITHUB/nomcomm/PAPERS_WORKING/NARRATIVES/fmriprep/sub-013/func/sub-013_task-pieman_run-1_space-MNI152NLin2009cAsym_res-native_desc-preproc_bold.nii.gz',\n",
       " '/Users/Ralf/My_Cloud/RalfsFunctions/GITHUB/nomcomm/PAPERS_WORKING/NARRATIVES/fmriprep/sub-012/func/sub-012_task-pieman_run-1_space-MNI152NLin2009cAsym_res-native_desc-preproc_bold.nii.gz',\n",
       " '/Users/Ralf/My_Cloud/RalfsFunctions/GITHUB/nomcomm/PAPERS_WORKING/NARRATIVES/fmriprep/sub-015/func/sub-015_task-pieman_run-1_space-MNI152NLin2009cAsym_res-native_desc-preproc_bold.nii.gz',\n",
       " '/Users/Ralf/My_Cloud/RalfsFunctions/GITHUB/nomcomm/PAPERS_WORKING/NARRATIVES/fmriprep/sub-006/func/sub-006_task-pieman_run-1_space-MNI152NLin2009cAsym_res-native_desc-preproc_bold.nii.gz',\n",
       " '/Users/Ralf/My_Cloud/RalfsFunctions/GITHUB/nomcomm/PAPERS_WORKING/NARRATIVES/fmriprep/sub-001/func/sub-001_task-pieman_run-1_space-MNI152NLin2009cAsym_res-native_desc-preproc_bold.nii.gz',\n",
       " '/Users/Ralf/My_Cloud/RalfsFunctions/GITHUB/nomcomm/PAPERS_WORKING/NARRATIVES/fmriprep/sub-008/func/sub-008_task-pieman_run-1_space-MNI152NLin2009cAsym_res-native_desc-preproc_bold.nii.gz']"
      ]
     },
     "execution_count": 11,
     "metadata": {},
     "output_type": "execute_result"
    }
   ],
   "source": [
    "text_files[:]"
   ]
  },
  {
   "cell_type": "code",
   "execution_count": 26,
   "metadata": {},
   "outputs": [
    {
     "name": "stdout",
     "output_type": "stream",
     "text": [
      "Collecting package metadata (current_repodata.json): done\n",
      "Solving environment: done\n",
      "\n",
      "## Package Plan ##\n",
      "\n",
      "  environment location: /Users/Ralf/anaconda3/envs/neuroimaging\n",
      "\n",
      "  added / updated specs:\n",
      "    - datalad\n",
      "\n",
      "\n",
      "The following packages will be downloaded:\n",
      "\n",
      "    package                    |            build\n",
      "    ---------------------------|-----------------\n",
      "    brotlipy-0.7.0             |py36h20b66c6_1001         357 KB  conda-forge\n",
      "    certifi-2020.12.5          |   py36h79c6626_1         143 KB  conda-forge\n",
      "    chardet-4.0.0              |   py36h79c6626_1         219 KB  conda-forge\n",
      "    cryptography-3.3.1         |   py36hd858a44_1         620 KB  conda-forge\n",
      "    datalad-0.13.7             |   py36h79c6626_0         1.8 MB  conda-forge\n",
      "    freetype-2.10.4            |       h4cff582_1         890 KB  conda-forge\n",
      "    jsmin-2.2.2                |py36h9f0ad1d_1002          21 KB  conda-forge\n",
      "    keyring-21.8.0             |   py36h79c6626_0          48 KB  conda-forge\n",
      "    lcms2-2.11                 |       h92f6f08_0         278 KB\n",
      "    libnghttp2-1.41.0          |       h8a08a2b_1         736 KB  conda-forge\n",
      "    libpq-12.3                 |       h7049927_3         2.6 MB  conda-forge\n",
      "    msgpack-python-1.0.0       |   py36h04f5b5a_1          81 KB\n",
      "    patool-1.12                |py36h79c6626_1003          76 KB  conda-forge\n",
      "    pillow-8.1.0               |   py36h5270095_0         589 KB\n",
      "    pygithub-1.44              |   py36h9f0ad1d_0         166 KB  conda-forge\n",
      "    pyperclip-1.8.1            |     pyhd3deb0d_0          14 KB  conda-forge\n",
      "    pysocks-1.7.1              |   py36h79c6626_3          27 KB  conda-forge\n",
      "    pyyaml-5.3.1               |   py36h20b66c6_2         170 KB  conda-forge\n",
      "    simplejson-3.17.2          |   py36h20b66c6_2          99 KB  conda-forge\n",
      "    tqdm-4.56.0                |     pyhd8ed1ab_0          76 KB  conda-forge\n",
      "    wrapt-1.12.1               |   py36h20b66c6_3          42 KB  conda-forge\n",
      "    ------------------------------------------------------------\n",
      "                                           Total:         8.9 MB\n",
      "\n",
      "The following NEW packages will be INSTALLED:\n",
      "\n",
      "  annexremote        conda-forge/noarch::annexremote-1.2.1-py_0\n",
      "  appdirs            conda-forge/noarch::appdirs-1.4.4-pyh9f0ad1d_0\n",
      "  boto               conda-forge/noarch::boto-2.49.0-py_0\n",
      "  brotlipy           conda-forge/osx-64::brotlipy-0.7.0-py36h20b66c6_1001\n",
      "  c-ares             conda-forge/osx-64::c-ares-1.17.1-hc929b4f_0\n",
      "  cffi               conda-forge/osx-64::cffi-1.14.4-py36h1b827b8_0\n",
      "  chardet            conda-forge/osx-64::chardet-4.0.0-py36h79c6626_1\n",
      "  cryptography       conda-forge/osx-64::cryptography-3.3.1-py36hd858a44_1\n",
      "  datalad            conda-forge/osx-64::datalad-0.13.7-py36h79c6626_0\n",
      "  deprecated         conda-forge/noarch::deprecated-1.2.10-pyh9f0ad1d_0\n",
      "  exifread           conda-forge/noarch::exifread-2.1.2-py_1\n",
      "  fasteners          conda-forge/noarch::fasteners-0.14.1-py_3\n",
      "  git                pkgs/main/osx-64::git-2.23.0-pl526h6951d83_0\n",
      "  humanize           conda-forge/noarch::humanize-3.2.0-pyhd8ed1ab_0\n",
      "  idna               conda-forge/noarch::idna-2.10-pyh9f0ad1d_0\n",
      "  iso8601            conda-forge/noarch::iso8601-0.1.13-pyh9f0ad1d_0\n",
      "  jsmin              conda-forge/osx-64::jsmin-2.2.2-py36h9f0ad1d_1002\n",
      "  keyring            conda-forge/osx-64::keyring-21.8.0-py36h79c6626_0\n",
      "  keyrings.alt       conda-forge/noarch::keyrings.alt-4.0.2-pyhd3deb0d_0\n",
      "  lcms2              pkgs/main/osx-64::lcms2-2.11-h92f6f08_0\n",
      "  libcurl            conda-forge/osx-64::libcurl-7.71.1-h9bf37e3_8\n",
      "  libev              conda-forge/osx-64::libev-4.33-haf1e3a3_1\n",
      "  libnghttp2         conda-forge/osx-64::libnghttp2-1.41.0-h8a08a2b_1\n",
      "  libssh2            conda-forge/osx-64::libssh2-1.9.0-h8a08a2b_5\n",
      "  libtiff            pkgs/main/osx-64::libtiff-4.1.0-hcb84e12_0\n",
      "  monotonic          conda-forge/noarch::monotonic-1.5-py_0\n",
      "  msgpack-python     pkgs/main/osx-64::msgpack-python-1.0.0-py36h04f5b5a_1\n",
      "  mutagen            conda-forge/noarch::mutagen-1.41.1-py_0\n",
      "  olefile            conda-forge/noarch::olefile-0.46-pyh9f0ad1d_1\n",
      "  p7zip              conda-forge/osx-64::p7zip-16.02-h6de7cb9_1000\n",
      "  patool             conda-forge/osx-64::patool-1.12-py36h79c6626_1003\n",
      "  perl               conda-forge/osx-64::perl-5.32.0-hbcb3906_0\n",
      "  pillow             pkgs/main/osx-64::pillow-8.1.0-py36h5270095_0\n",
      "  pycparser          conda-forge/noarch::pycparser-2.20-pyh9f0ad1d_2\n",
      "  pygithub           conda-forge/osx-64::pygithub-1.44-py36h9f0ad1d_0\n",
      "  pyjwt              conda-forge/noarch::pyjwt-2.0.0-pyhd8ed1ab_0\n",
      "  pyopenssl          conda-forge/noarch::pyopenssl-20.0.1-pyhd8ed1ab_0\n",
      "  pyperclip          conda-forge/noarch::pyperclip-1.8.1-pyhd3deb0d_0\n",
      "  pysocks            conda-forge/osx-64::pysocks-1.7.1-py36h79c6626_3\n",
      "  python_abi         conda-forge/osx-64::python_abi-3.6-1_cp36m\n",
      "  pyyaml             conda-forge/osx-64::pyyaml-5.3.1-py36h20b66c6_2\n",
      "  requests           conda-forge/noarch::requests-2.25.1-pyhd3deb0d_0\n",
      "  requests-ftp       conda-forge/noarch::requests-ftp-0.3.1-py_1\n",
      "  simplejson         conda-forge/osx-64::simplejson-3.17.2-py36h20b66c6_2\n",
      "  tqdm               conda-forge/noarch::tqdm-4.56.0-pyhd8ed1ab_0\n",
      "  urllib3            conda-forge/noarch::urllib3-1.26.2-pyhd8ed1ab_0\n",
      "  whoosh             conda-forge/noarch::whoosh-2.7.4-py_1\n",
      "  wrapt              conda-forge/osx-64::wrapt-1.12.1-py36h20b66c6_3\n",
      "  yaml               conda-forge/osx-64::yaml-0.2.5-haf1e3a3_0\n",
      "  zstd               pkgs/main/osx-64::zstd-1.3.7-h5bba6e5_0\n",
      "\n",
      "The following packages will be UPDATED:\n",
      "\n",
      "  ca-certificates     pkgs/main::ca-certificates-2020.1.1-0 --> conda-forge::ca-certificates-2020.12.5-h033912b_0\n",
      "  certifi              pkgs/main::certifi-2019.11.28-py36_0 --> conda-forge::certifi-2020.12.5-py36h79c6626_1\n",
      "  freetype             pkgs/main::freetype-2.9.1-hb4e5f40_0 --> conda-forge::freetype-2.10.4-h4cff582_1\n",
      "  krb5                  conda-forge::krb5-1.16.4-h1752a42_0 --> pkgs/main::krb5-1.17.1-hddcf347_0\n",
      "  libedit                        3.1.20170329-hcfe32e1_1001 --> 3.1.20191231-hed1e85f_2\n",
      "  libpq                                     12.2-h554dc5a_0 --> 12.3-h7049927_3\n",
      "  openssl              pkgs/main::openssl-1.1.1d-h1de35cc_4 --> conda-forge::openssl-1.1.1i-h35c211d_0\n",
      "\n",
      "\n",
      "\n",
      "Downloading and Extracting Packages\n",
      "pygithub-1.44        | 166 KB    | ##################################### | 100% \n",
      "certifi-2020.12.5    | 143 KB    | ##################################### | 100% \n",
      "patool-1.12          | 76 KB     | ##################################### | 100% \n",
      "datalad-0.13.7       | 1.8 MB    | ##################################### | 100% \n",
      "brotlipy-0.7.0       | 357 KB    | ##################################### | 100% \n",
      "libpq-12.3           | 2.6 MB    | ##################################### | 100% \n",
      "jsmin-2.2.2          | 21 KB     | ##################################### | 100% \n",
      "chardet-4.0.0        | 219 KB    | ##################################### | 100% \n",
      "lcms2-2.11           | 278 KB    | ##################################### | 100% \n",
      "tqdm-4.56.0          | 76 KB     | ##################################### | 100% \n",
      "msgpack-python-1.0.0 | 81 KB     | ##################################### | 100% \n",
      "pysocks-1.7.1        | 27 KB     | ##################################### | 100% \n",
      "cryptography-3.3.1   | 620 KB    | ##################################### | 100% \n",
      "freetype-2.10.4      | 890 KB    | ##################################### | 100% \n",
      "wrapt-1.12.1         | 42 KB     | ##################################### | 100% \n",
      "libnghttp2-1.41.0    | 736 KB    | ##################################### | 100% \n",
      "pillow-8.1.0         | 589 KB    | ##################################### | 100% \n",
      "pyyaml-5.3.1         | 170 KB    | ##################################### | 100% \n",
      "simplejson-3.17.2    | 99 KB     | ##################################### | 100% \n",
      "keyring-21.8.0       | 48 KB     | ##################################### | 100% \n",
      "pyperclip-1.8.1      | 14 KB     | ##################################### | 100% \n",
      "Preparing transaction: done\n",
      "Verifying transaction: done\n",
      "Executing transaction: done\n"
     ]
    }
   ],
   "source": [
    "#!conda install datalad -y\n",
    "\n"
   ]
  },
  {
   "cell_type": "code",
   "execution_count": 21,
   "metadata": {},
   "outputs": [
    {
     "name": "stdout",
     "output_type": "stream",
     "text": [
      "['/Users/Ralf/anaconda3/envs/neuroimaging/lib/python36.zip', '/Users/Ralf/anaconda3/envs/neuroimaging/lib/python3.6', '/Users/Ralf/anaconda3/envs/neuroimaging/lib/python3.6/lib-dynload', '', '/Users/Ralf/.local/lib/python3.6/site-packages', '/Users/Ralf/.local/lib/python3.6/site-packages/nistats-0.0.1b0-py3.6.egg', '/Users/Ralf/anaconda3/envs/neuroimaging/lib/python3.6/site-packages', '/Users/Ralf/anaconda3/envs/neuroimaging/lib/python3.6/site-packages/IPython/extensions', '/Users/Ralf/.ipython']\n"
     ]
    }
   ],
   "source": [
    "import sys\n",
    "print(sys.path)"
   ]
  },
  {
   "cell_type": "code",
   "execution_count": 22,
   "metadata": {},
   "outputs": [
    {
     "ename": "FileNotFoundError",
     "evalue": "[Errno 2] No such file or directory: './fmriprep'",
     "output_type": "error",
     "traceback": [
      "\u001b[0;31m---------------------------------------------------------------------------\u001b[0m",
      "\u001b[0;31mFileNotFoundError\u001b[0m                         Traceback (most recent call last)",
      "\u001b[0;32m<ipython-input-22-9c6f3aeb4693>\u001b[0m in \u001b[0;36m<module>\u001b[0;34m\u001b[0m\n\u001b[0;32m----> 1\u001b[0;31m \u001b[0mos\u001b[0m\u001b[0;34m.\u001b[0m\u001b[0mchdir\u001b[0m\u001b[0;34m(\u001b[0m\u001b[0;34m'./fmriprep'\u001b[0m\u001b[0;34m)\u001b[0m\u001b[0;34m\u001b[0m\u001b[0;34m\u001b[0m\u001b[0m\n\u001b[0m\u001b[1;32m      2\u001b[0m \u001b[0mos\u001b[0m\u001b[0;34m.\u001b[0m\u001b[0mgetcwd\u001b[0m\u001b[0;34m(\u001b[0m\u001b[0;34m)\u001b[0m\u001b[0;34m\u001b[0m\u001b[0;34m\u001b[0m\u001b[0m\n",
      "\u001b[0;31mFileNotFoundError\u001b[0m: [Errno 2] No such file or directory: './fmriprep'"
     ]
    }
   ],
   "source": [
    "os.chdir('./fmriprep')\n",
    "os.getcwd()"
   ]
  },
  {
   "cell_type": "code",
   "execution_count": 24,
   "metadata": {},
   "outputs": [
    {
     "data": {
      "text/plain": [
       "'sub-010'"
      ]
     },
     "execution_count": 24,
     "metadata": {},
     "output_type": "execute_result"
    }
   ],
   "source": [
    "text_files[0][86:93]"
   ]
  },
  {
   "cell_type": "code",
   "execution_count": 29,
   "metadata": {},
   "outputs": [
    {
     "data": {
      "application/vnd.jupyter.widget-view+json": {
       "model_id": "",
       "version_major": 2,
       "version_minor": 0
      },
      "text/plain": [
       "sub-011/fun .. bold.nii.gz:   0%|          | 0.00/81.6M [00:00<?, ?B/s]"
      ]
     },
     "metadata": {},
     "output_type": "display_data"
    },
    {
     "data": {
      "text/plain": [
       "[{'type': 'file',\n",
       "  'refds': '/Users/Ralf/My_Cloud/RalfsFunctions/GITHUB/nomcomm/PAPERS_WORKING/NARRATIVES/fmriprep',\n",
       "  'status': 'ok',\n",
       "  'path': '/Users/Ralf/My_Cloud/RalfsFunctions/GITHUB/nomcomm/PAPERS_WORKING/NARRATIVES/fmriprep/sub-011/func/sub-011_task-pieman_run-1_space-MNI152NLin2009cAsym_res-native_desc-preproc_bold.nii.gz',\n",
       "  'action': 'get',\n",
       "  'annexkey': 'MD5E-s81625591--00925b75fc035cd7493d0f0fb99eee8c.nii.gz',\n",
       "  'message': 'from fcp-indi...'}]"
      ]
     },
     "execution_count": 29,
     "metadata": {},
     "output_type": "execute_result"
    }
   ],
   "source": [
    "import datalad\n",
    "from datalad.api import install\n",
    "datalad.api.get(text_files[2])"
   ]
  },
  {
   "cell_type": "code",
   "execution_count": 49,
   "metadata": {},
   "outputs": [],
   "source": [
    "file_to_load = text_files[0]\n",
    "\n",
    "\n",
    "#file1 = nib.load(file_to_load)"
   ]
  },
  {
   "cell_type": "code",
   "execution_count": 50,
   "metadata": {},
   "outputs": [
    {
     "name": "stderr",
     "output_type": "stream",
     "text": [
      "/Users/Ralf/anaconda3/envs/nilearn/lib/python3.7/site-packages/numpy/lib/npyio.py:2349: VisibleDeprecationWarning: Reading unicode strings without specifying the encoding argument is deprecated. Set the encoding, use None for the system default.\n",
      "  output = genfromtxt(fname, **kwargs)\n"
     ]
    }
   ],
   "source": [
    "from nilearn import datasets\n",
    "atlas = datasets.fetch_atlas_msdl()\n",
    "# Loading atlas image stored in 'maps'\n",
    "atlas_filename = atlas['maps']\n",
    "# Loading atlas data stored in 'labels'\n",
    "labels = atlas['labels']\n"
   ]
  },
  {
   "cell_type": "code",
   "execution_count": 66,
   "metadata": {},
   "outputs": [
    {
     "name": "stdout",
     "output_type": "stream",
     "text": [
      "[NiftiMapsMasker.fit_transform] loading regions from /Users/Ralf/nilearn_data/msdl_atlas/MSDL_rois/msdl_rois.nii\n",
      "Resampling maps\n",
      "[Memory]0.0s, 0.0min    : Loading resample_img...\n",
      "________________________________________resample_img cache loaded - 0.1s, 0.0min\n"
     ]
    },
    {
     "name": "stderr",
     "output_type": "stream",
     "text": [
      "/Users/Ralf/anaconda3/envs/nilearn/lib/python3.7/site-packages/nilearn/_utils/cache_mixin.py:295: UserWarning: memory_level is currently set to 0 but a Memory object has been provided. Setting memory_level to 1.\n",
      "  warnings.warn(\"memory_level is currently set to 0 but \"\n"
     ]
    },
    {
     "name": "stdout",
     "output_type": "stream",
     "text": [
      "________________________________________________________________________________\n",
      "[Memory] Calling nilearn.input_data.base_masker.filter_and_extract...\n",
      "filter_and_extract('/Users/Ralf/My_Cloud/RalfsFunctions/GITHUB/nomcomm/PAPERS_WORKING/NARRATIVES/fmriprep/sub-010/func/sub-010_task-pieman_run-1_space-MNI152NLin2009cAsym_res-native_desc-preproc_bold.nii.gz', \n",
      "<nilearn.input_data.nifti_maps_masker._ExtractionFunctor object at 0x1608e5e48>, { 'allow_overlap': True,\n",
      "  'detrend': True,\n",
      "  'dtype': None,\n",
      "  'high_pass': None,\n",
      "  'low_pass': None,\n",
      "  'maps_img': '/Users/Ralf/nilearn_data/msdl_atlas/MSDL_rois/msdl_rois.nii',\n",
      "  'mask_img': None,\n",
      "  'smoothing_fwhm': None,\n",
      "  'standardize': True,\n",
      "  't_r': None,\n",
      "  'target_affine': None,\n",
      "  'target_shape': None}, confounds=None, dtype=None, memory=Memory(location=nilearn_cache/joblib), memory_level=1, verbose=5)\n",
      "[NiftiMapsMasker.transform_single_imgs] Loading data from /Users/Ralf/My_Cloud/RalfsFunctions/GITHUB/nomcomm/PAPERS_WORKING/NARRATIVES/fmriprep/sub-010/func/sub-010_task-pieman_run-1_space-MNI152NLin2009cAsym_res-native_desc-preproc_bold.nii.gz\n",
      "[NiftiMapsMasker.transform_single_imgs] Extracting region signals\n",
      "[NiftiMapsMasker.transform_single_imgs] Cleaning extracted signals\n",
      "_______________________________________________filter_and_extract - 8.2s, 0.1min\n"
     ]
    }
   ],
   "source": [
    "from nilearn.input_data import NiftiMapsMasker\n",
    "masker = NiftiMapsMasker(maps_img=atlas_filename, detrend =True, standardize=True,\n",
    "                         memory='nilearn_cache', verbose=5)\n",
    "datalad.api.get(text_files[0])\n",
    "time_series0 = masker.fit_transform(text_files[0])\n"
   ]
  },
  {
   "cell_type": "code",
   "execution_count": 67,
   "metadata": {},
   "outputs": [
    {
     "name": "stdout",
     "output_type": "stream",
     "text": [
      "[NiftiMapsMasker.fit_transform] loading regions from /Users/Ralf/nilearn_data/msdl_atlas/MSDL_rois/msdl_rois.nii\n",
      "________________________________________________________________________________\n",
      "[Memory] Calling nilearn.input_data.base_masker.filter_and_extract...\n",
      "filter_and_extract('/Users/Ralf/My_Cloud/RalfsFunctions/GITHUB/nomcomm/PAPERS_WORKING/NARRATIVES/fmriprep/sub-016/func/sub-016_task-pieman_run-1_space-MNI152NLin2009cAsym_res-native_desc-preproc_bold.nii.gz', \n",
      "<nilearn.input_data.nifti_maps_masker._ExtractionFunctor object at 0x161a6c4e0>, { 'allow_overlap': True,\n",
      "  'detrend': True,\n",
      "  'dtype': None,\n",
      "  'high_pass': None,\n",
      "  'low_pass': None,\n",
      "  'maps_img': '/Users/Ralf/nilearn_data/msdl_atlas/MSDL_rois/msdl_rois.nii',\n",
      "  'mask_img': None,\n",
      "  'smoothing_fwhm': None,\n",
      "  'standardize': True,\n",
      "  't_r': None,\n",
      "  'target_affine': None,\n",
      "  'target_shape': None}, confounds=None, dtype=None, memory=Memory(location=nilearn_cache/joblib), memory_level=1, verbose=5)\n",
      "[NiftiMapsMasker.transform_single_imgs] Loading data from /Users/Ralf/My_Cloud/RalfsFunctions/GITHUB/nomcomm/PAPERS_WORKING/NARRATIVES/fmriprep/sub-016/func/sub-016_task-pieman_run-1_space-MNI152NLin2009cAsym_res-native_desc-preproc_bold.nii.gz\n",
      "[NiftiMapsMasker.transform_single_imgs] Extracting region signals\n",
      "[NiftiMapsMasker.transform_single_imgs] Cleaning extracted signals\n",
      "_______________________________________________filter_and_extract - 8.2s, 0.1min\n"
     ]
    }
   ],
   "source": [
    "datalad.api.get(text_files[1])\n",
    "time_series1 = masker.fit_transform(text_files[1])"
   ]
  },
  {
   "cell_type": "code",
   "execution_count": 68,
   "metadata": {},
   "outputs": [
    {
     "data": {
      "text/plain": [
       "(300, 39)"
      ]
     },
     "execution_count": 68,
     "metadata": {},
     "output_type": "execute_result"
    }
   ],
   "source": [
    "time_series1.shape"
   ]
  },
  {
   "cell_type": "code",
   "execution_count": 69,
   "metadata": {},
   "outputs": [
    {
     "data": {
      "text/plain": [
       "(300, 39)"
      ]
     },
     "execution_count": 69,
     "metadata": {},
     "output_type": "execute_result"
    }
   ],
   "source": [
    "time_series0.shape"
   ]
  },
  {
   "cell_type": "code",
   "execution_count": 70,
   "metadata": {},
   "outputs": [],
   "source": [
    "import matplotlib.pyplot as plt\n",
    "%matplotlib inline"
   ]
  },
  {
   "cell_type": "code",
   "execution_count": 71,
   "metadata": {},
   "outputs": [
    {
     "data": {
      "text/plain": [
       "[<matplotlib.lines.Line2D at 0x160823588>]"
      ]
     },
     "execution_count": 71,
     "metadata": {},
     "output_type": "execute_result"
    },
    {
     "data": {
      "image/png": "[encoded data removed]",
      "text/plain": [
       "<Figure size 1440x144 with 1 Axes>"
      ]
     },
     "metadata": {
      "needs_background": "light"
     },
     "output_type": "display_data"
    }
   ],
   "source": [
    "plt.figure(figsize = (20,2))\n",
    "plt.plot(time_series0[:,0])\n",
    "plt.plot(time_series1[:,0])"
   ]
  },
  {
   "cell_type": "code",
   "execution_count": null,
   "metadata": {},
   "outputs": [],
   "source": []
  }
 ],
 "metadata": {
  "kernelspec": {
   "display_name": "neuroimaging",
   "language": "python",
   "name": "neuroimaging"
  },
  "language_info": {
   "codemirror_mode": {
    "name": "ipython",
    "version": 3
   },
   "file_extension": ".py",
   "mimetype": "text/x-python",
   "name": "python",
   "nbconvert_exporter": "python",
   "pygments_lexer": "ipython3",
   "version": "3.6.7"
  }
 },
 "nbformat": 4,
 "nbformat_minor": 4
}
