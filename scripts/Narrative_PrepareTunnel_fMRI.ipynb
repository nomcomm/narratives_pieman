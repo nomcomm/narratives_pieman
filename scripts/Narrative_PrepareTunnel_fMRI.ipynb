{
 "cells": [
  {
   "cell_type": "markdown",
   "metadata": {},
   "source": [
    "## import modules"
   ]
  },
  {
   "cell_type": "code",
   "execution_count": 4,
   "metadata": {},
   "outputs": [],
   "source": [
    "import glob \n",
    "import pandas as pd\n",
    "import matplotlib.pyplot as plt\n",
    "%matplotlib inline\n",
    "import numpy as np\n",
    "import sys, os, nilearn\n",
    "from nilearn import input_data, datasets\n",
    "from nilearn import datasets, plotting\n",
    "from nilearn.image import new_img_like, load_img, get_data\n",
    "\n"
   ]
  },
  {
   "cell_type": "markdown",
   "metadata": {},
   "source": [
    "### set up masker"
   ]
  },
  {
   "cell_type": "code",
   "execution_count": 5,
   "metadata": {},
   "outputs": [],
   "source": [
    "shen_dictionary = np.load('/Users/Ralf/My_Cloud/RalfsFunctions/GITHUB/nomcomm/PAPERS_WORKING/NARRATIVES/data/maps/shen_dictionary.npy', allow_pickle = True).item()\n",
    "shen_file       = '/Users/Ralf/My_Cloud/RalfsFunctions/GITHUB/nomcomm/PAPERS_WORKING/NARRATIVES/data/maps/shen_2mm_268_parcellation.nii'\n",
    "\n",
    "path_dir = \"/Users/Ralf/My_Cloud/RalfsFunctions/GITHUB/nomcomm/PAPERS_WORKING/NARRATIVES/data/shen_ts//\"\n"
   ]
  },
  {
   "cell_type": "markdown",
   "metadata": {},
   "source": [
    "## set up files"
   ]
  },
  {
   "cell_type": "code",
   "execution_count": 15,
   "metadata": {
    "scrolled": false
   },
   "outputs": [
    {
     "name": "stdout",
     "output_type": "stream",
     "text": [
      "(1040, 268)\n",
      "/Users/Ralf/My_Cloud/RalfsFunctions/GITHUB/nomcomm/PAPERS_WORKING/NARRATIVES/data/shen_ts/sub-069_task-tunnel_space-MNI152NLin2009cAsym_LTR_Z_THP001_LP012_shen268.npy\n",
      "----\n",
      "(1040, 268)\n",
      "/Users/Ralf/My_Cloud/RalfsFunctions/GITHUB/nomcomm/PAPERS_WORKING/NARRATIVES/data/shen_ts/sub-064_task-tunnel_space-MNI152NLin2009cAsym_LTR_Z_THP001_LP012_shen268.npy\n",
      "----\n",
      "(1040, 268)\n",
      "/Users/Ralf/My_Cloud/RalfsFunctions/GITHUB/nomcomm/PAPERS_WORKING/NARRATIVES/data/shen_ts/sub-053_task-tunnel_space-MNI152NLin2009cAsym_LTR_Z_THP001_LP012_shen268.npy\n",
      "----\n",
      "(1040, 268)\n",
      "/Users/Ralf/My_Cloud/RalfsFunctions/GITHUB/nomcomm/PAPERS_WORKING/NARRATIVES/data/shen_ts/sub-052_task-tunnel_space-MNI152NLin2009cAsym_LTR_Z_THP001_LP012_shen268.npy\n",
      "----\n",
      "(1040, 268)\n",
      "/Users/Ralf/My_Cloud/RalfsFunctions/GITHUB/nomcomm/PAPERS_WORKING/NARRATIVES/data/shen_ts/sub-025_task-tunnel_space-MNI152NLin2009cAsym_LTR_Z_THP001_LP012_shen268.npy\n",
      "----\n",
      "(1040, 268)\n",
      "/Users/Ralf/My_Cloud/RalfsFunctions/GITHUB/nomcomm/PAPERS_WORKING/NARRATIVES/data/shen_ts/sub-005_task-tunnel_space-MNI152NLin2009cAsym_LTR_Z_THP001_LP012_shen268.npy\n",
      "----\n",
      "(1040, 268)\n",
      "/Users/Ralf/My_Cloud/RalfsFunctions/GITHUB/nomcomm/PAPERS_WORKING/NARRATIVES/data/shen_ts/sub-065_task-tunnel_space-MNI152NLin2009cAsym_LTR_Z_THP001_LP012_shen268.npy\n",
      "----\n",
      "(1040, 268)\n",
      "/Users/Ralf/My_Cloud/RalfsFunctions/GITHUB/nomcomm/PAPERS_WORKING/NARRATIVES/data/shen_ts/sub-026_task-tunnel_space-MNI152NLin2009cAsym_LTR_Z_THP001_LP012_shen268.npy\n",
      "----\n",
      "(1040, 268)\n",
      "/Users/Ralf/My_Cloud/RalfsFunctions/GITHUB/nomcomm/PAPERS_WORKING/NARRATIVES/data/shen_ts/sub-066_task-tunnel_space-MNI152NLin2009cAsym_LTR_Z_THP001_LP012_shen268.npy\n",
      "----\n",
      "(1040, 268)\n",
      "/Users/Ralf/My_Cloud/RalfsFunctions/GITHUB/nomcomm/PAPERS_WORKING/NARRATIVES/data/shen_ts/sub-057_task-tunnel_space-MNI152NLin2009cAsym_LTR_Z_THP001_LP012_shen268.npy\n",
      "----\n",
      "(1040, 268)\n",
      "/Users/Ralf/My_Cloud/RalfsFunctions/GITHUB/nomcomm/PAPERS_WORKING/NARRATIVES/data/shen_ts/sub-060_task-tunnel_space-MNI152NLin2009cAsym_LTR_Z_THP001_LP012_shen268.npy\n",
      "----\n",
      "(1040, 268)\n",
      "/Users/Ralf/My_Cloud/RalfsFunctions/GITHUB/nomcomm/PAPERS_WORKING/NARRATIVES/data/shen_ts/sub-059_task-tunnel_space-MNI152NLin2009cAsym_LTR_Z_THP001_LP012_shen268.npy\n",
      "----\n",
      "(1040, 268)\n",
      "/Users/Ralf/My_Cloud/RalfsFunctions/GITHUB/nomcomm/PAPERS_WORKING/NARRATIVES/data/shen_ts/sub-063_task-tunnel_space-MNI152NLin2009cAsym_LTR_Z_THP001_LP012_shen268.npy\n",
      "----\n",
      "(1040, 268)\n",
      "/Users/Ralf/My_Cloud/RalfsFunctions/GITHUB/nomcomm/PAPERS_WORKING/NARRATIVES/data/shen_ts/sub-022_task-tunnel_space-MNI152NLin2009cAsym_LTR_Z_THP001_LP012_shen268.npy\n",
      "----\n",
      "(1040, 268)\n",
      "/Users/Ralf/My_Cloud/RalfsFunctions/GITHUB/nomcomm/PAPERS_WORKING/NARRATIVES/data/shen_ts/sub-062_task-tunnel_space-MNI152NLin2009cAsym_LTR_Z_THP001_LP012_shen268.npy\n",
      "----\n",
      "(1040, 268)\n",
      "/Users/Ralf/My_Cloud/RalfsFunctions/GITHUB/nomcomm/PAPERS_WORKING/NARRATIVES/data/shen_ts/sub-058_task-tunnel_space-MNI152NLin2009cAsym_LTR_Z_THP001_LP012_shen268.npy\n",
      "----\n",
      "(1040, 268)\n",
      "/Users/Ralf/My_Cloud/RalfsFunctions/GITHUB/nomcomm/PAPERS_WORKING/NARRATIVES/data/shen_ts/sub-055_task-tunnel_space-MNI152NLin2009cAsym_LTR_Z_THP001_LP012_shen268.npy\n",
      "----\n",
      "(1040, 268)\n",
      "/Users/Ralf/My_Cloud/RalfsFunctions/GITHUB/nomcomm/PAPERS_WORKING/NARRATIVES/data/shen_ts/sub-001_task-tunnel_space-MNI152NLin2009cAsym_LTR_Z_THP001_LP012_shen268.npy\n",
      "----\n",
      "(1040, 268)\n",
      "/Users/Ralf/My_Cloud/RalfsFunctions/GITHUB/nomcomm/PAPERS_WORKING/NARRATIVES/data/shen_ts/sub-041_task-tunnel_space-MNI152NLin2009cAsym_LTR_Z_THP001_LP012_shen268.npy\n",
      "----\n",
      "(1040, 268)\n",
      "/Users/Ralf/My_Cloud/RalfsFunctions/GITHUB/nomcomm/PAPERS_WORKING/NARRATIVES/data/shen_ts/sub-061_task-tunnel_space-MNI152NLin2009cAsym_LTR_Z_THP001_LP012_shen268.npy\n",
      "----\n",
      "(1040, 268)\n",
      "/Users/Ralf/My_Cloud/RalfsFunctions/GITHUB/nomcomm/PAPERS_WORKING/NARRATIVES/data/shen_ts/sub-056_task-tunnel_space-MNI152NLin2009cAsym_LTR_Z_THP001_LP012_shen268.npy\n",
      "----\n"
     ]
    }
   ],
   "source": [
    "task_list = [   '-tunnel_space-MNI152NLin2009cAsym',             #  68\n",
    "                # The Moth\n",
    "                # 7:30 \n",
    "                ]           \n",
    "\n",
    "ns = [] \n",
    "res = []\n",
    "storyisc = []\n",
    "for curr_task in task_list[:]:\n",
    "    #print(curr_task)\n",
    "    search_path = path_dir + \"/*\" + str(curr_task) + \"_LTR_Z_THP001_LP012_shen268.npy\"\n",
    "    #print(search_path)\n",
    "\n",
    "    ts_files = glob.glob(search_path)\n",
    "    #print(ts_files)\n",
    "    \n",
    "    ts_data = []\n",
    "    for i in range(len(ts_files)):\n",
    "        ts_data.append(np.load(ts_files[i]))\n",
    "        print(np.load(ts_files[i]).shape)\n",
    "        print((ts_files[i]))\n",
    "        print('----')\n",
    "\n",
    "        \n",
    "    ts_data = np.asarray(ts_data);\n",
    "\n",
    "\n",
    "    "
   ]
  },
  {
   "cell_type": "code",
   "execution_count": 27,
   "metadata": {},
   "outputs": [
    {
     "ename": "NameError",
     "evalue": "name 'ls' is not defined",
     "output_type": "error",
     "traceback": [
      "\u001b[0;31m---------------------------------------------------------------------------\u001b[0m",
      "\u001b[0;31mNameError\u001b[0m                                 Traceback (most recent call last)",
      "\u001b[0;32m<ipython-input-27-a7196860a315>\u001b[0m in \u001b[0;36m<module>\u001b[0;34m\u001b[0m\n\u001b[1;32m      1\u001b[0m \u001b[0mts_data\u001b[0m\u001b[0;34m.\u001b[0m\u001b[0mshape\u001b[0m\u001b[0;34m\u001b[0m\u001b[0;34m\u001b[0m\u001b[0m\n\u001b[1;32m      2\u001b[0m \u001b[0;34m\u001b[0m\u001b[0m\n\u001b[0;32m----> 3\u001b[0;31m \u001b[0mls\u001b[0m\u001b[0;34m\u001b[0m\u001b[0;34m\u001b[0m\u001b[0m\n\u001b[0m",
      "\u001b[0;31mNameError\u001b[0m: name 'ls' is not defined"
     ]
    }
   ],
   "source": [
    "ts_data.shape\n",
    "\n"
   ]
  },
  {
   "cell_type": "code",
   "execution_count": 30,
   "metadata": {},
   "outputs": [
    {
     "data": {
      "text/plain": [
       "'/Users/Ralf/My_Cloud/RalfsFunctions/GITHUB/nomcomm/PAPERS_WORKING/NARRATIVES/fmriprep'"
      ]
     },
     "execution_count": 30,
     "metadata": {},
     "output_type": "execute_result"
    }
   ],
   "source": [
    "os.getcwd()"
   ]
  },
  {
   "cell_type": "code",
   "execution_count": 31,
   "metadata": {},
   "outputs": [],
   "source": [
    "np.save('/Users/Ralf/My_Cloud/RalfsFunctions/GITHUB/nomcomm/PAPERS_WORKING/NARRATIVES/fmri_data_tunnel.npy', ts_data)"
   ]
  },
  {
   "cell_type": "code",
   "execution_count": 26,
   "metadata": {},
   "outputs": [
    {
     "data": {
      "text/html": [
       "<div>\n",
       "<style scoped>\n",
       "    .dataframe tbody tr th:only-of-type {\n",
       "        vertical-align: middle;\n",
       "    }\n",
       "\n",
       "    .dataframe tbody tr th {\n",
       "        vertical-align: top;\n",
       "    }\n",
       "\n",
       "    .dataframe thead th {\n",
       "        text-align: right;\n",
       "    }\n",
       "</style>\n",
       "<table border=\"1\" class=\"dataframe\">\n",
       "  <thead>\n",
       "    <tr style=\"text-align: right;\">\n",
       "      <th></th>\n",
       "      <th>word</th>\n",
       "      <th>worldlc</th>\n",
       "      <th>onset</th>\n",
       "      <th>offset</th>\n",
       "    </tr>\n",
       "  </thead>\n",
       "  <tbody>\n",
       "    <tr>\n",
       "      <th>0</th>\n",
       "      <td>Tonight</td>\n",
       "      <td>tonight</td>\n",
       "      <td>0.12</td>\n",
       "      <td>0.48</td>\n",
       "    </tr>\n",
       "    <tr>\n",
       "      <th>1</th>\n",
       "      <td>a</td>\n",
       "      <td>a</td>\n",
       "      <td>0.69</td>\n",
       "      <td>0.80</td>\n",
       "    </tr>\n",
       "    <tr>\n",
       "      <th>2</th>\n",
       "      <td>story</td>\n",
       "      <td>story</td>\n",
       "      <td>0.80</td>\n",
       "      <td>1.21</td>\n",
       "    </tr>\n",
       "    <tr>\n",
       "      <th>3</th>\n",
       "      <td>by</td>\n",
       "      <td>by</td>\n",
       "      <td>1.21</td>\n",
       "      <td>1.46</td>\n",
       "    </tr>\n",
       "    <tr>\n",
       "      <th>4</th>\n",
       "      <td>Frederik</td>\n",
       "      <td>NaN</td>\n",
       "      <td>NaN</td>\n",
       "      <td>NaN</td>\n",
       "    </tr>\n",
       "  </tbody>\n",
       "</table>\n",
       "</div>"
      ],
      "text/plain": [
       "       word  worldlc  onset  offset\n",
       "0   Tonight  tonight   0.12    0.48\n",
       "1         a        a   0.69    0.80\n",
       "2     story    story   0.80    1.21\n",
       "3        by       by   1.21    1.46\n",
       "4  Frederik      NaN    NaN     NaN"
      ]
     },
     "execution_count": 26,
     "metadata": {},
     "output_type": "execute_result"
    }
   ],
   "source": [
    "word_times_file = pd.read_csv('/Users/Ralf/My_Cloud/RalfsFunctions/GITHUB/nomcomm/PAPERS_WORKING/NARRATIVES/gentle/tunnel/align.csv',\n",
    "                             header = None, names = ['word', 'worldlc', 'onset', 'offset'])\n",
    "word_times_file.head()\n"
   ]
  },
  {
   "cell_type": "code",
   "execution_count": 39,
   "metadata": {},
   "outputs": [
    {
     "name": "stdout",
     "output_type": "stream",
     "text": [
      "['sub-069', 'sub-064', 'sub-053', 'sub-052', 'sub-025', 'sub-005', 'sub-065', 'sub-026', 'sub-066', 'sub-057', 'sub-060', 'sub-059', 'sub-063', 'sub-022', 'sub-062', 'sub-058', 'sub-055', 'sub-001', 'sub-041', 'sub-061', 'sub-056']\n"
     ]
    }
   ],
   "source": [
    " \n",
    "matches = []\n",
    " \n",
    "for match in ts_files:\n",
    "        matches.append(match[90:97])\n",
    " \n",
    "print(matches)"
   ]
  },
  {
   "cell_type": "code",
   "execution_count": 41,
   "metadata": {},
   "outputs": [],
   "source": [
    "participants = pd.DataFrame(matches, columns = ['participant_id'])"
   ]
  },
  {
   "cell_type": "code",
   "execution_count": 43,
   "metadata": {},
   "outputs": [],
   "source": [
    "participants.to_csv('/Users/Ralf/My_Cloud/RalfsFunctions/GITHUB/nomcomm/PAPERS_WORKING/NARRATIVES/tunnel_participants.csv')"
   ]
  },
  {
   "cell_type": "code",
   "execution_count": null,
   "metadata": {},
   "outputs": [],
   "source": []
  }
 ],
 "metadata": {
  "kernelspec": {
   "display_name": "neuroimaging",
   "language": "python",
   "name": "neuroimaging"
  },
  "language_info": {
   "codemirror_mode": {
    "name": "ipython",
    "version": 3
   },
   "file_extension": ".py",
   "mimetype": "text/x-python",
   "name": "python",
   "nbconvert_exporter": "python",
   "pygments_lexer": "ipython3",
   "version": "3.6.7"
  }
 },
 "nbformat": 4,
 "nbformat_minor": 4
}
