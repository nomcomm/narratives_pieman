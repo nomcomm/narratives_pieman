{
 "cells": [
  {
   "cell_type": "markdown",
   "metadata": {},
   "source": [
    "## import modules"
   ]
  },
  {
   "cell_type": "code",
   "execution_count": 12,
   "metadata": {},
   "outputs": [],
   "source": [
    "import glob \n",
    "import pandas as pd\n",
    "import matplotlib.pyplot as plt\n",
    "%matplotlib inline\n",
    "import numpy as np\n",
    "import sys, os, nilearn\n",
    "from nilearn import input_data, datasets\n",
    "from nilearn import datasets, plotting\n",
    "from nilearn.image import new_img_like, load_img, get_data\n",
    "\n"
   ]
  },
  {
   "cell_type": "markdown",
   "metadata": {},
   "source": [
    "### set up masker"
   ]
  },
  {
   "cell_type": "code",
   "execution_count": 13,
   "metadata": {},
   "outputs": [],
   "source": [
    "shen_dictionary = np.load('/Users/Ralf/My_Cloud/RalfsFunctions/GITHUB/nomcomm/PAPERS_WORKING/NARRATIVES/data/maps/shen_dictionary.npy', allow_pickle = True).item()\n",
    "shen_file       = '/Users/Ralf/My_Cloud/RalfsFunctions/GITHUB/nomcomm/PAPERS_WORKING/NARRATIVES/data/maps/shen_2mm_268_parcellation.nii'\n",
    "\n",
    "path_dir = \"/Users/Ralf/My_Cloud/RalfsFunctions/GITHUB/nomcomm/PAPERS_WORKING/NARRATIVES/data/shen_ts//\"\n"
   ]
  },
  {
   "cell_type": "markdown",
   "metadata": {},
   "source": [
    "## set up files"
   ]
  },
  {
   "cell_type": "code",
   "execution_count": 14,
   "metadata": {
    "scrolled": false
   },
   "outputs": [
    {
     "name": "stdout",
     "output_type": "stream",
     "text": [
      "(300, 268)\n",
      "/Users/Ralf/My_Cloud/RalfsFunctions/GITHUB/nomcomm/PAPERS_WORKING/NARRATIVES/data/shen_ts/sub-017_task-pieman_space-MNI152NLin2009cAsym_LTR_Z_THP001_LP012_shen268.npy\n",
      "----\n",
      "(300, 268)\n",
      "/Users/Ralf/My_Cloud/RalfsFunctions/GITHUB/nomcomm/PAPERS_WORKING/NARRATIVES/data/shen_ts/sub-037_task-pieman_space-MNI152NLin2009cAsym_LTR_Z_THP001_LP012_shen268.npy\n",
      "----\n",
      "(300, 268)\n",
      "/Users/Ralf/My_Cloud/RalfsFunctions/GITHUB/nomcomm/PAPERS_WORKING/NARRATIVES/data/shen_ts/sub-057_task-pieman_space-MNI152NLin2009cAsym_LTR_Z_THP001_LP012_shen268.npy\n",
      "----\n",
      "(300, 268)\n",
      "/Users/Ralf/My_Cloud/RalfsFunctions/GITHUB/nomcomm/PAPERS_WORKING/NARRATIVES/data/shen_ts/sub-077_task-pieman_space-MNI152NLin2009cAsym_LTR_Z_THP001_LP012_shen268.npy\n",
      "----\n",
      "(300, 268)\n",
      "/Users/Ralf/My_Cloud/RalfsFunctions/GITHUB/nomcomm/PAPERS_WORKING/NARRATIVES/data/shen_ts/sub-020_task-pieman_space-MNI152NLin2009cAsym_LTR_Z_THP001_LP012_shen268.npy\n",
      "----\n",
      "(300, 268)\n",
      "/Users/Ralf/My_Cloud/RalfsFunctions/GITHUB/nomcomm/PAPERS_WORKING/NARRATIVES/data/shen_ts/sub-040_task-pieman_space-MNI152NLin2009cAsym_LTR_Z_THP001_LP012_shen268.npy\n",
      "----\n",
      "(300, 268)\n",
      "/Users/Ralf/My_Cloud/RalfsFunctions/GITHUB/nomcomm/PAPERS_WORKING/NARRATIVES/data/shen_ts/sub-060_task-pieman_space-MNI152NLin2009cAsym_LTR_Z_THP001_LP012_shen268.npy\n",
      "----\n",
      "(300, 268)\n",
      "/Users/Ralf/My_Cloud/RalfsFunctions/GITHUB/nomcomm/PAPERS_WORKING/NARRATIVES/data/shen_ts/sub-034_task-pieman_space-MNI152NLin2009cAsym_LTR_Z_THP001_LP012_shen268.npy\n",
      "----\n",
      "(300, 268)\n",
      "/Users/Ralf/My_Cloud/RalfsFunctions/GITHUB/nomcomm/PAPERS_WORKING/NARRATIVES/data/shen_ts/sub-074_task-pieman_space-MNI152NLin2009cAsym_LTR_Z_THP001_LP012_shen268.npy\n",
      "----\n",
      "(300, 268)\n",
      "/Users/Ralf/My_Cloud/RalfsFunctions/GITHUB/nomcomm/PAPERS_WORKING/NARRATIVES/data/shen_ts/sub-054_task-pieman_space-MNI152NLin2009cAsym_LTR_Z_THP001_LP012_shen268.npy\n",
      "----\n",
      "(300, 268)\n",
      "/Users/Ralf/My_Cloud/RalfsFunctions/GITHUB/nomcomm/PAPERS_WORKING/NARRATIVES/data/shen_ts/sub-039_task-pieman_space-MNI152NLin2009cAsym_LTR_Z_THP001_LP012_shen268.npy\n",
      "----\n",
      "(300, 268)\n",
      "/Users/Ralf/My_Cloud/RalfsFunctions/GITHUB/nomcomm/PAPERS_WORKING/NARRATIVES/data/shen_ts/sub-019_task-pieman_space-MNI152NLin2009cAsym_LTR_Z_THP001_LP012_shen268.npy\n",
      "----\n",
      "(300, 268)\n",
      "/Users/Ralf/My_Cloud/RalfsFunctions/GITHUB/nomcomm/PAPERS_WORKING/NARRATIVES/data/shen_ts/sub-079_task-pieman_space-MNI152NLin2009cAsym_LTR_Z_THP001_LP012_shen268.npy\n",
      "----\n",
      "(300, 268)\n",
      "/Users/Ralf/My_Cloud/RalfsFunctions/GITHUB/nomcomm/PAPERS_WORKING/NARRATIVES/data/shen_ts/sub-059_task-pieman_space-MNI152NLin2009cAsym_LTR_Z_THP001_LP012_shen268.npy\n",
      "----\n",
      "(300, 268)\n",
      "/Users/Ralf/My_Cloud/RalfsFunctions/GITHUB/nomcomm/PAPERS_WORKING/NARRATIVES/data/shen_ts/sub-023_task-pieman_space-MNI152NLin2009cAsym_LTR_Z_THP001_LP012_shen268.npy\n",
      "----\n",
      "(300, 268)\n",
      "/Users/Ralf/My_Cloud/RalfsFunctions/GITHUB/nomcomm/PAPERS_WORKING/NARRATIVES/data/shen_ts/sub-063_task-pieman_space-MNI152NLin2009cAsym_LTR_Z_THP001_LP012_shen268.npy\n",
      "----\n",
      "(300, 268)\n",
      "/Users/Ralf/My_Cloud/RalfsFunctions/GITHUB/nomcomm/PAPERS_WORKING/NARRATIVES/data/shen_ts/sub-043_task-pieman_space-MNI152NLin2009cAsym_LTR_Z_THP001_LP012_shen268.npy\n",
      "----\n",
      "(300, 268)\n",
      "/Users/Ralf/My_Cloud/RalfsFunctions/GITHUB/nomcomm/PAPERS_WORKING/NARRATIVES/data/shen_ts/sub-042_task-pieman_space-MNI152NLin2009cAsym_LTR_Z_THP001_LP012_shen268.npy\n",
      "----\n",
      "(300, 268)\n",
      "/Users/Ralf/My_Cloud/RalfsFunctions/GITHUB/nomcomm/PAPERS_WORKING/NARRATIVES/data/shen_ts/sub-062_task-pieman_space-MNI152NLin2009cAsym_LTR_Z_THP001_LP012_shen268.npy\n",
      "----\n",
      "(300, 268)\n",
      "/Users/Ralf/My_Cloud/RalfsFunctions/GITHUB/nomcomm/PAPERS_WORKING/NARRATIVES/data/shen_ts/sub-055_task-pieman_space-MNI152NLin2009cAsym_LTR_Z_THP001_LP012_shen268.npy\n",
      "----\n",
      "(300, 268)\n",
      "/Users/Ralf/My_Cloud/RalfsFunctions/GITHUB/nomcomm/PAPERS_WORKING/NARRATIVES/data/shen_ts/sub-075_task-pieman_space-MNI152NLin2009cAsym_LTR_Z_THP001_LP012_shen268.npy\n",
      "----\n",
      "(300, 268)\n",
      "/Users/Ralf/My_Cloud/RalfsFunctions/GITHUB/nomcomm/PAPERS_WORKING/NARRATIVES/data/shen_ts/sub-035_task-pieman_space-MNI152NLin2009cAsym_LTR_Z_THP001_LP012_shen268.npy\n",
      "----\n",
      "(300, 268)\n",
      "/Users/Ralf/My_Cloud/RalfsFunctions/GITHUB/nomcomm/PAPERS_WORKING/NARRATIVES/data/shen_ts/sub-058_task-pieman_space-MNI152NLin2009cAsym_LTR_Z_THP001_LP012_shen268.npy\n",
      "----\n",
      "(300, 268)\n",
      "/Users/Ralf/My_Cloud/RalfsFunctions/GITHUB/nomcomm/PAPERS_WORKING/NARRATIVES/data/shen_ts/sub-078_task-pieman_space-MNI152NLin2009cAsym_LTR_Z_THP001_LP012_shen268.npy\n",
      "----\n",
      "(300, 268)\n",
      "/Users/Ralf/My_Cloud/RalfsFunctions/GITHUB/nomcomm/PAPERS_WORKING/NARRATIVES/data/shen_ts/sub-018_task-pieman_space-MNI152NLin2009cAsym_LTR_Z_THP001_LP012_shen268.npy\n",
      "----\n",
      "(300, 268)\n",
      "/Users/Ralf/My_Cloud/RalfsFunctions/GITHUB/nomcomm/PAPERS_WORKING/NARRATIVES/data/shen_ts/sub-061_task-pieman_space-MNI152NLin2009cAsym_LTR_Z_THP001_LP012_shen268.npy\n",
      "----\n",
      "(300, 268)\n",
      "/Users/Ralf/My_Cloud/RalfsFunctions/GITHUB/nomcomm/PAPERS_WORKING/NARRATIVES/data/shen_ts/sub-041_task-pieman_space-MNI152NLin2009cAsym_LTR_Z_THP001_LP012_shen268.npy\n",
      "----\n",
      "(300, 268)\n",
      "/Users/Ralf/My_Cloud/RalfsFunctions/GITHUB/nomcomm/PAPERS_WORKING/NARRATIVES/data/shen_ts/sub-076_task-pieman_space-MNI152NLin2009cAsym_LTR_Z_THP001_LP012_shen268.npy\n",
      "----\n",
      "(300, 268)\n",
      "/Users/Ralf/My_Cloud/RalfsFunctions/GITHUB/nomcomm/PAPERS_WORKING/NARRATIVES/data/shen_ts/sub-036_task-pieman_space-MNI152NLin2009cAsym_LTR_Z_THP001_LP012_shen268.npy\n",
      "----\n",
      "(300, 268)\n",
      "/Users/Ralf/My_Cloud/RalfsFunctions/GITHUB/nomcomm/PAPERS_WORKING/NARRATIVES/data/shen_ts/sub-007_task-pieman_space-MNI152NLin2009cAsym_LTR_Z_THP001_LP012_shen268.npy\n",
      "----\n",
      "(300, 268)\n",
      "/Users/Ralf/My_Cloud/RalfsFunctions/GITHUB/nomcomm/PAPERS_WORKING/NARRATIVES/data/shen_ts/sub-027_task-pieman_space-MNI152NLin2009cAsym_LTR_Z_THP001_LP012_shen268.npy\n",
      "----\n",
      "(300, 268)\n",
      "/Users/Ralf/My_Cloud/RalfsFunctions/GITHUB/nomcomm/PAPERS_WORKING/NARRATIVES/data/shen_ts/sub-047_task-pieman_space-MNI152NLin2009cAsym_LTR_Z_THP001_LP012_shen268.npy\n",
      "----\n",
      "(300, 268)\n",
      "/Users/Ralf/My_Cloud/RalfsFunctions/GITHUB/nomcomm/PAPERS_WORKING/NARRATIVES/data/shen_ts/sub-067_task-pieman_space-MNI152NLin2009cAsym_LTR_Z_THP001_LP012_shen268.npy\n",
      "----\n",
      "(300, 268)\n",
      "/Users/Ralf/My_Cloud/RalfsFunctions/GITHUB/nomcomm/PAPERS_WORKING/NARRATIVES/data/shen_ts/sub-030_task-pieman_space-MNI152NLin2009cAsym_LTR_Z_THP001_LP012_shen268.npy\n",
      "----\n",
      "(300, 268)\n",
      "/Users/Ralf/My_Cloud/RalfsFunctions/GITHUB/nomcomm/PAPERS_WORKING/NARRATIVES/data/shen_ts/sub-050_task-pieman_space-MNI152NLin2009cAsym_LTR_Z_THP001_LP012_shen268.npy\n",
      "----\n",
      "(300, 268)\n",
      "/Users/Ralf/My_Cloud/RalfsFunctions/GITHUB/nomcomm/PAPERS_WORKING/NARRATIVES/data/shen_ts/sub-070_task-pieman_space-MNI152NLin2009cAsym_LTR_Z_THP001_LP012_shen268.npy\n",
      "----\n",
      "(300, 268)\n",
      "/Users/Ralf/My_Cloud/RalfsFunctions/GITHUB/nomcomm/PAPERS_WORKING/NARRATIVES/data/shen_ts/sub-024_task-pieman_space-MNI152NLin2009cAsym_LTR_Z_THP001_LP012_shen268.npy\n",
      "----\n",
      "(300, 268)\n",
      "/Users/Ralf/My_Cloud/RalfsFunctions/GITHUB/nomcomm/PAPERS_WORKING/NARRATIVES/data/shen_ts/sub-080_task-pieman_space-MNI152NLin2009cAsym_LTR_Z_THP001_LP012_shen268.npy\n",
      "----\n",
      "(300, 268)\n",
      "/Users/Ralf/My_Cloud/RalfsFunctions/GITHUB/nomcomm/PAPERS_WORKING/NARRATIVES/data/shen_ts/sub-064_task-pieman_space-MNI152NLin2009cAsym_LTR_Z_THP001_LP012_shen268.npy\n",
      "----\n",
      "(300, 268)\n",
      "/Users/Ralf/My_Cloud/RalfsFunctions/GITHUB/nomcomm/PAPERS_WORKING/NARRATIVES/data/shen_ts/sub-044_task-pieman_space-MNI152NLin2009cAsym_LTR_Z_THP001_LP012_shen268.npy\n",
      "----\n",
      "(300, 268)\n",
      "/Users/Ralf/My_Cloud/RalfsFunctions/GITHUB/nomcomm/PAPERS_WORKING/NARRATIVES/data/shen_ts/sub-029_task-pieman_space-MNI152NLin2009cAsym_LTR_Z_THP001_LP012_shen268.npy\n",
      "----\n",
      "(300, 268)\n",
      "/Users/Ralf/My_Cloud/RalfsFunctions/GITHUB/nomcomm/PAPERS_WORKING/NARRATIVES/data/shen_ts/sub-009_task-pieman_space-MNI152NLin2009cAsym_LTR_Z_THP001_LP012_shen268.npy\n",
      "----\n",
      "(300, 268)\n",
      "/Users/Ralf/My_Cloud/RalfsFunctions/GITHUB/nomcomm/PAPERS_WORKING/NARRATIVES/data/shen_ts/sub-049_task-pieman_space-MNI152NLin2009cAsym_LTR_Z_THP001_LP012_shen268.npy\n",
      "----\n",
      "(300, 268)\n",
      "/Users/Ralf/My_Cloud/RalfsFunctions/GITHUB/nomcomm/PAPERS_WORKING/NARRATIVES/data/shen_ts/sub-033_task-pieman_space-MNI152NLin2009cAsym_LTR_Z_THP001_LP012_shen268.npy\n",
      "----\n",
      "(300, 268)\n",
      "/Users/Ralf/My_Cloud/RalfsFunctions/GITHUB/nomcomm/PAPERS_WORKING/NARRATIVES/data/shen_ts/sub-073_task-pieman_space-MNI152NLin2009cAsym_LTR_Z_THP001_LP012_shen268.npy\n",
      "----\n",
      "(300, 268)\n",
      "/Users/Ralf/My_Cloud/RalfsFunctions/GITHUB/nomcomm/PAPERS_WORKING/NARRATIVES/data/shen_ts/sub-053_task-pieman_space-MNI152NLin2009cAsym_LTR_Z_THP001_LP012_shen268.npy\n",
      "----\n",
      "(300, 268)\n",
      "/Users/Ralf/My_Cloud/RalfsFunctions/GITHUB/nomcomm/PAPERS_WORKING/NARRATIVES/data/shen_ts/sub-052_task-pieman_space-MNI152NLin2009cAsym_LTR_Z_THP001_LP012_shen268.npy\n",
      "----\n",
      "(300, 268)\n",
      "/Users/Ralf/My_Cloud/RalfsFunctions/GITHUB/nomcomm/PAPERS_WORKING/NARRATIVES/data/shen_ts/sub-072_task-pieman_space-MNI152NLin2009cAsym_LTR_Z_THP001_LP012_shen268.npy\n",
      "----\n",
      "(300, 268)\n",
      "/Users/Ralf/My_Cloud/RalfsFunctions/GITHUB/nomcomm/PAPERS_WORKING/NARRATIVES/data/shen_ts/sub-032_task-pieman_space-MNI152NLin2009cAsym_LTR_Z_THP001_LP012_shen268.npy\n",
      "----\n",
      "(300, 268)\n",
      "/Users/Ralf/My_Cloud/RalfsFunctions/GITHUB/nomcomm/PAPERS_WORKING/NARRATIVES/data/shen_ts/sub-045_task-pieman_space-MNI152NLin2009cAsym_LTR_Z_THP001_LP012_shen268.npy\n",
      "----\n",
      "(300, 268)\n",
      "/Users/Ralf/My_Cloud/RalfsFunctions/GITHUB/nomcomm/PAPERS_WORKING/NARRATIVES/data/shen_ts/sub-065_task-pieman_space-MNI152NLin2009cAsym_LTR_Z_THP001_LP012_shen268.npy\n",
      "----\n",
      "(300, 268)\n",
      "/Users/Ralf/My_Cloud/RalfsFunctions/GITHUB/nomcomm/PAPERS_WORKING/NARRATIVES/data/shen_ts/sub-081_task-pieman_space-MNI152NLin2009cAsym_LTR_Z_THP001_LP012_shen268.npy\n",
      "----\n",
      "(300, 268)\n",
      "/Users/Ralf/My_Cloud/RalfsFunctions/GITHUB/nomcomm/PAPERS_WORKING/NARRATIVES/data/shen_ts/sub-025_task-pieman_space-MNI152NLin2009cAsym_LTR_Z_THP001_LP012_shen268.npy\n",
      "----\n",
      "(300, 268)\n",
      "/Users/Ralf/My_Cloud/RalfsFunctions/GITHUB/nomcomm/PAPERS_WORKING/NARRATIVES/data/shen_ts/sub-048_task-pieman_space-MNI152NLin2009cAsym_LTR_Z_THP001_LP012_shen268.npy\n",
      "----\n",
      "(300, 268)\n",
      "/Users/Ralf/My_Cloud/RalfsFunctions/GITHUB/nomcomm/PAPERS_WORKING/NARRATIVES/data/shen_ts/sub-028_task-pieman_space-MNI152NLin2009cAsym_LTR_Z_THP001_LP012_shen268.npy\n",
      "----\n",
      "(300, 268)\n",
      "/Users/Ralf/My_Cloud/RalfsFunctions/GITHUB/nomcomm/PAPERS_WORKING/NARRATIVES/data/shen_ts/sub-071_task-pieman_space-MNI152NLin2009cAsym_LTR_Z_THP001_LP012_shen268.npy\n",
      "----\n",
      "(300, 268)\n",
      "/Users/Ralf/My_Cloud/RalfsFunctions/GITHUB/nomcomm/PAPERS_WORKING/NARRATIVES/data/shen_ts/sub-051_task-pieman_space-MNI152NLin2009cAsym_LTR_Z_THP001_LP012_shen268.npy\n",
      "----\n",
      "(300, 268)\n",
      "/Users/Ralf/My_Cloud/RalfsFunctions/GITHUB/nomcomm/PAPERS_WORKING/NARRATIVES/data/shen_ts/sub-031_task-pieman_space-MNI152NLin2009cAsym_LTR_Z_THP001_LP012_shen268.npy\n",
      "----\n",
      "(300, 268)\n",
      "/Users/Ralf/My_Cloud/RalfsFunctions/GITHUB/nomcomm/PAPERS_WORKING/NARRATIVES/data/shen_ts/sub-066_task-pieman_space-MNI152NLin2009cAsym_LTR_Z_THP001_LP012_shen268.npy\n",
      "----\n",
      "(300, 268)\n",
      "/Users/Ralf/My_Cloud/RalfsFunctions/GITHUB/nomcomm/PAPERS_WORKING/NARRATIVES/data/shen_ts/sub-046_task-pieman_space-MNI152NLin2009cAsym_LTR_Z_THP001_LP012_shen268.npy\n",
      "----\n",
      "(300, 268)\n",
      "/Users/Ralf/My_Cloud/RalfsFunctions/GITHUB/nomcomm/PAPERS_WORKING/NARRATIVES/data/shen_ts/sub-026_task-pieman_space-MNI152NLin2009cAsym_LTR_Z_THP001_LP012_shen268.npy\n",
      "----\n",
      "(300, 268)\n",
      "/Users/Ralf/My_Cloud/RalfsFunctions/GITHUB/nomcomm/PAPERS_WORKING/NARRATIVES/data/shen_ts/sub-082_task-pieman_space-MNI152NLin2009cAsym_LTR_Z_THP001_LP012_shen268.npy\n",
      "----\n"
     ]
    }
   ],
   "source": [
    "task_list = [   '-pieman_space-MNI152NLin2009cAsym',             #  68\n",
    "                # The Moth\n",
    "                # 7:30 \n",
    "                ]           \n",
    "\n",
    "ns = [] \n",
    "res = []\n",
    "storyisc = []\n",
    "for curr_task in task_list[:]:\n",
    "    #print(curr_task)\n",
    "    search_path = path_dir + \"/*\" + str(curr_task) + \"_LTR_Z_THP001_LP012_shen268.npy\"\n",
    "    #print(search_path)\n",
    "\n",
    "    ts_files = glob.glob(search_path)\n",
    "    #print(ts_files)\n",
    "    \n",
    "    ts_data = []\n",
    "    for i in range(len(ts_files)):\n",
    "        ts_data.append(np.load(ts_files[i]))\n",
    "        print(np.load(ts_files[i]).shape)\n",
    "        print((ts_files[i]))\n",
    "        print('----')\n",
    "\n",
    "        \n",
    "    ts_data = np.asarray(ts_data);\n",
    "\n",
    "\n",
    "    "
   ]
  },
  {
   "cell_type": "code",
   "execution_count": 15,
   "metadata": {},
   "outputs": [
    {
     "data": {
      "text/plain": [
       "(62, 300, 268)"
      ]
     },
     "execution_count": 15,
     "metadata": {},
     "output_type": "execute_result"
    }
   ],
   "source": [
    "ts_data.shape\n",
    "\n"
   ]
  },
  {
   "cell_type": "code",
   "execution_count": 16,
   "metadata": {},
   "outputs": [
    {
     "data": {
      "text/plain": [
       "'/Users/Ralf/My_Cloud/RalfsFunctions/GITHUB/nomcomm/PAPERS_WORKING/NARRATIVES/fmriprep'"
      ]
     },
     "execution_count": 16,
     "metadata": {},
     "output_type": "execute_result"
    }
   ],
   "source": [
    "os.getcwd()"
   ]
  },
  {
   "cell_type": "code",
   "execution_count": 17,
   "metadata": {},
   "outputs": [],
   "source": [
    "np.save('/Users/Ralf/My_Cloud/RalfsFunctions/GITHUB/nomcomm/PAPERS_WORKING/NARRATIVES/fmri_data_pieman.npy', ts_data)"
   ]
  },
  {
   "cell_type": "code",
   "execution_count": 18,
   "metadata": {},
   "outputs": [
    {
     "data": {
      "text/html": [
       "<div>\n",
       "<style scoped>\n",
       "    .dataframe tbody tr th:only-of-type {\n",
       "        vertical-align: middle;\n",
       "    }\n",
       "\n",
       "    .dataframe tbody tr th {\n",
       "        vertical-align: top;\n",
       "    }\n",
       "\n",
       "    .dataframe thead th {\n",
       "        text-align: right;\n",
       "    }\n",
       "</style>\n",
       "<table border=\"1\" class=\"dataframe\">\n",
       "  <thead>\n",
       "    <tr style=\"text-align: right;\">\n",
       "      <th></th>\n",
       "      <th>word</th>\n",
       "      <th>worldlc</th>\n",
       "      <th>onset</th>\n",
       "      <th>offset</th>\n",
       "    </tr>\n",
       "  </thead>\n",
       "  <tbody>\n",
       "    <tr>\n",
       "      <th>0</th>\n",
       "      <td>I</td>\n",
       "      <td>i</td>\n",
       "      <td>15.089999</td>\n",
       "      <td>15.169999</td>\n",
       "    </tr>\n",
       "    <tr>\n",
       "      <th>1</th>\n",
       "      <td>began</td>\n",
       "      <td>began</td>\n",
       "      <td>15.170000</td>\n",
       "      <td>15.510000</td>\n",
       "    </tr>\n",
       "    <tr>\n",
       "      <th>2</th>\n",
       "      <td>my</td>\n",
       "      <td>my</td>\n",
       "      <td>15.509999</td>\n",
       "      <td>15.699999</td>\n",
       "    </tr>\n",
       "    <tr>\n",
       "      <th>3</th>\n",
       "      <td>illustrious</td>\n",
       "      <td>&lt;unk&gt;</td>\n",
       "      <td>15.710000</td>\n",
       "      <td>16.310000</td>\n",
       "    </tr>\n",
       "    <tr>\n",
       "      <th>4</th>\n",
       "      <td>career</td>\n",
       "      <td>career</td>\n",
       "      <td>16.330000</td>\n",
       "      <td>16.940000</td>\n",
       "    </tr>\n",
       "  </tbody>\n",
       "</table>\n",
       "</div>"
      ],
      "text/plain": [
       "          word worldlc      onset     offset\n",
       "0            I       i  15.089999  15.169999\n",
       "1        began   began  15.170000  15.510000\n",
       "2           my      my  15.509999  15.699999\n",
       "3  illustrious   <unk>  15.710000  16.310000\n",
       "4       career  career  16.330000  16.940000"
      ]
     },
     "execution_count": 18,
     "metadata": {},
     "output_type": "execute_result"
    }
   ],
   "source": [
    "word_times_file = pd.read_csv('/Users/Ralf/My_Cloud/RalfsFunctions/GITHUB/nomcomm/PAPERS_WORKING/NARRATIVES/gentle/pieman/align.csv',\n",
    "                             header = None, names = ['word', 'worldlc', 'onset', 'offset'])\n",
    "word_times_file.head()\n"
   ]
  },
  {
   "cell_type": "code",
   "execution_count": 19,
   "metadata": {},
   "outputs": [
    {
     "name": "stdout",
     "output_type": "stream",
     "text": [
      "['sub-017', 'sub-037', 'sub-057', 'sub-077', 'sub-020', 'sub-040', 'sub-060', 'sub-034', 'sub-074', 'sub-054', 'sub-039', 'sub-019', 'sub-079', 'sub-059', 'sub-023', 'sub-063', 'sub-043', 'sub-042', 'sub-062', 'sub-055', 'sub-075', 'sub-035', 'sub-058', 'sub-078', 'sub-018', 'sub-061', 'sub-041', 'sub-076', 'sub-036', 'sub-007', 'sub-027', 'sub-047', 'sub-067', 'sub-030', 'sub-050', 'sub-070', 'sub-024', 'sub-080', 'sub-064', 'sub-044', 'sub-029', 'sub-009', 'sub-049', 'sub-033', 'sub-073', 'sub-053', 'sub-052', 'sub-072', 'sub-032', 'sub-045', 'sub-065', 'sub-081', 'sub-025', 'sub-048', 'sub-028', 'sub-071', 'sub-051', 'sub-031', 'sub-066', 'sub-046', 'sub-026', 'sub-082']\n"
     ]
    }
   ],
   "source": [
    " \n",
    "matches = []\n",
    " \n",
    "for match in ts_files:\n",
    "        matches.append(match[90:97])\n",
    " \n",
    "print(matches)"
   ]
  },
  {
   "cell_type": "code",
   "execution_count": 20,
   "metadata": {},
   "outputs": [
    {
     "data": {
      "text/plain": [
       "62"
      ]
     },
     "execution_count": 20,
     "metadata": {},
     "output_type": "execute_result"
    }
   ],
   "source": [
    "len(matches)"
   ]
  },
  {
   "cell_type": "code",
   "execution_count": 21,
   "metadata": {},
   "outputs": [],
   "source": [
    "participants = pd.DataFrame(matches, columns = ['participant_id'])"
   ]
  },
  {
   "cell_type": "code",
   "execution_count": 22,
   "metadata": {},
   "outputs": [],
   "source": [
    "participants.to_csv('/Users/Ralf/My_Cloud/RalfsFunctions/GITHUB/nomcomm/PAPERS_WORKING/NARRATIVES/pieman_participants.csv')"
   ]
  },
  {
   "cell_type": "code",
   "execution_count": null,
   "metadata": {},
   "outputs": [],
   "source": []
  }
 ],
 "metadata": {
  "kernelspec": {
   "display_name": "neuroimaging",
   "language": "python",
   "name": "neuroimaging"
  },
  "language_info": {
   "codemirror_mode": {
    "name": "ipython",
    "version": 3
   },
   "file_extension": ".py",
   "mimetype": "text/x-python",
   "name": "python",
   "nbconvert_exporter": "python",
   "pygments_lexer": "ipython3",
   "version": "3.6.7"
  }
 },
 "nbformat": 4,
 "nbformat_minor": 4
}
